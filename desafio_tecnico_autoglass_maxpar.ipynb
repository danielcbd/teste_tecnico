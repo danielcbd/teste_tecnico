{
 "cells": [
  {
   "cell_type": "markdown",
   "id": "c3bca124",
   "metadata": {},
   "source": [
    "# Desafio técnico | Cientista de Dados - Maxpar\n",
    "\n",
    "Este notebook tem como objetivo realizar uma análise da base de dados de Síndrome Respiratória Aguda Grave (SRAG) do ano de 2023, fornecida pelo OpenData SUS.\n",
    "\n",
    "Através do tratamento de dados, análise exploratória e aplicação de modelos de machine learning, busca gerar insights relevantes que possam auxiliar na tomada de decisões em saúde pública.\n",
    "\n",
    "Ele faz parte de uma etapa do processo seletivo do Grupo Autoglass para a vaga **Cientista de Dados - IA Generativa - Vila Velha/ES | Maxpar**\n",
    "\n",
    "A análise foi dividida em quatro etapas principais, seguindo as orientações contidas no arquivo anexado ao e-mail do desafio:\n",
    "1. **Tratamento dos dados**: identificação e correção de problemas na base.\n",
    "2. **Análise descritiva inicial**: estudo de tendências temporais, distribuição geográfica e fatores de risco.\n",
    "3. **Modelos de Machine Learning**: criação de modelos para prever a evolução dos casos (óbito ou não).\n",
    "4. **Conclusões e recomendações**: geração de insights para apoiar políticas públicas de saúde."
   ]
  },
  {
   "cell_type": "markdown",
   "id": "0b32a0c5",
   "metadata": {
    "ExecuteTime": {
     "end_time": "2025-05-13T00:49:56.724343Z",
     "start_time": "2025-05-13T00:49:56.681570Z"
    }
   },
   "source": [
    "## 0. IMPORTS\n",
    "\n",
    "Importação das bibliotecas que foram utilizadas no decorrer desta análise de dados"
   ]
  },
  {
   "cell_type": "code",
   "execution_count": 158,
   "id": "7895fd5d",
   "metadata": {
    "ExecuteTime": {
     "end_time": "2025-05-14T13:14:07.169155Z",
     "start_time": "2025-05-14T13:14:07.151589Z"
    }
   },
   "outputs": [],
   "source": [
    "import pandas as pd\n",
    "import warnings\n",
    "import matplotlib.pyplot as plt\n",
    "import seaborn as sns\n",
    "import numpy as np\n",
    "\n",
    "\n",
    "from sklearn.ensemble import RandomForestClassifier\n",
    "from sklearn.linear_model import LogisticRegression\n",
    "from xgboost import XGBClassifier\n",
    "from lightgbm import LGBMClassifier\n",
    "from sklearn.model_selection import StratifiedKFold\n",
    "from sklearn.pipeline import Pipeline\n",
    "from sklearn.preprocessing import OneHotEncoder, StandardScaler, OrdinalEncoder\n",
    "from sklearn.impute import SimpleImputer\n",
    "from sklearn.compose import ColumnTransformer\n",
    "from sklearn.metrics import accuracy_score, precision_score, recall_score, f1_score, roc_curve, auc, precision_recall_curve, average_precision_score\n",
    "from tqdm.notebook import tqdm\n",
    "from tqdm import tqdm\n",
    "from sklearn.model_selection import train_test_split\n",
    "\n",
    "\n",
    "from IPython.display import Markdown, display\n",
    "\n",
    "warnings.filterwarnings('ignore')"
   ]
  },
  {
   "cell_type": "markdown",
   "id": "da2ead43",
   "metadata": {},
   "source": [
    "### 0.1. CARREGAMENTO DA BASE DE DADOS"
   ]
  },
  {
   "cell_type": "code",
   "execution_count": 159,
   "id": "ae51a64a",
   "metadata": {
    "ExecuteTime": {
     "end_time": "2025-05-14T13:14:16.456467Z",
     "start_time": "2025-05-14T13:14:07.672304Z"
    }
   },
   "outputs": [
    {
     "data": {
      "text/html": [
       "<div>\n",
       "<style scoped>\n",
       "    .dataframe tbody tr th:only-of-type {\n",
       "        vertical-align: middle;\n",
       "    }\n",
       "\n",
       "    .dataframe tbody tr th {\n",
       "        vertical-align: top;\n",
       "    }\n",
       "\n",
       "    .dataframe thead th {\n",
       "        text-align: right;\n",
       "    }\n",
       "</style>\n",
       "<table border=\"1\" class=\"dataframe\">\n",
       "  <thead>\n",
       "    <tr style=\"text-align: right;\">\n",
       "      <th></th>\n",
       "      <th>DT_NOTIFIC</th>\n",
       "      <th>SEM_NOT</th>\n",
       "      <th>DT_SIN_PRI</th>\n",
       "      <th>SEM_PRI</th>\n",
       "      <th>SG_UF_NOT</th>\n",
       "      <th>ID_REGIONA</th>\n",
       "      <th>CO_REGIONA</th>\n",
       "      <th>ID_MUNICIP</th>\n",
       "      <th>CO_MUN_NOT</th>\n",
       "      <th>ID_UNIDADE</th>\n",
       "      <th>...</th>\n",
       "      <th>VG_ENC</th>\n",
       "      <th>VG_REINF</th>\n",
       "      <th>REINF</th>\n",
       "      <th>FAB_ADIC</th>\n",
       "      <th>LOT_RE_BI</th>\n",
       "      <th>FAB_RE_BI</th>\n",
       "      <th>DOSE_ADIC</th>\n",
       "      <th>DOS_RE_BI</th>\n",
       "      <th>LOTE_ADIC</th>\n",
       "      <th>TABAG</th>\n",
       "    </tr>\n",
       "  </thead>\n",
       "  <tbody>\n",
       "    <tr>\n",
       "      <th>0</th>\n",
       "      <td>21/01/2023</td>\n",
       "      <td>3</td>\n",
       "      <td>20/01/2023</td>\n",
       "      <td>3</td>\n",
       "      <td>MG</td>\n",
       "      <td>DIAMANTINA</td>\n",
       "      <td>1450.0</td>\n",
       "      <td>ARACUAI</td>\n",
       "      <td>310340</td>\n",
       "      <td>HOSPITAL SAO VICENTE DE PAULO ARACUAI</td>\n",
       "      <td>...</td>\n",
       "      <td>NaN</td>\n",
       "      <td>NaN</td>\n",
       "      <td>2.0</td>\n",
       "      <td>NaN</td>\n",
       "      <td>NaN</td>\n",
       "      <td>NaN</td>\n",
       "      <td>NaN</td>\n",
       "      <td>NaN</td>\n",
       "      <td>NaN</td>\n",
       "      <td>NaN</td>\n",
       "    </tr>\n",
       "    <tr>\n",
       "      <th>1</th>\n",
       "      <td>14/02/2023</td>\n",
       "      <td>7</td>\n",
       "      <td>13/02/2023</td>\n",
       "      <td>7</td>\n",
       "      <td>SC</td>\n",
       "      <td>FLORIANOPOLIS</td>\n",
       "      <td>1476.0</td>\n",
       "      <td>FLORIANOPOLIS</td>\n",
       "      <td>420540</td>\n",
       "      <td>INSTITUTO DE ENSINO E PESQUISA DR IRINEU MAY B...</td>\n",
       "      <td>...</td>\n",
       "      <td>NaN</td>\n",
       "      <td>NaN</td>\n",
       "      <td>2.0</td>\n",
       "      <td>NaN</td>\n",
       "      <td>NaN</td>\n",
       "      <td>NaN</td>\n",
       "      <td>NaN</td>\n",
       "      <td>NaN</td>\n",
       "      <td>NaN</td>\n",
       "      <td>NaN</td>\n",
       "    </tr>\n",
       "    <tr>\n",
       "      <th>2</th>\n",
       "      <td>16/02/2023</td>\n",
       "      <td>7</td>\n",
       "      <td>04/02/2023</td>\n",
       "      <td>5</td>\n",
       "      <td>SP</td>\n",
       "      <td>GVE XXIV RIBEIRAO PRETO</td>\n",
       "      <td>1348.0</td>\n",
       "      <td>CAJURU</td>\n",
       "      <td>350940</td>\n",
       "      <td>CASA DE CARIDADE SAO VICENTE DE PAULO CAJURU</td>\n",
       "      <td>...</td>\n",
       "      <td>NaN</td>\n",
       "      <td>NaN</td>\n",
       "      <td>2.0</td>\n",
       "      <td>NaN</td>\n",
       "      <td>NaN</td>\n",
       "      <td>NaN</td>\n",
       "      <td>NaN</td>\n",
       "      <td>NaN</td>\n",
       "      <td>NaN</td>\n",
       "      <td>NaN</td>\n",
       "    </tr>\n",
       "    <tr>\n",
       "      <th>3</th>\n",
       "      <td>24/02/2023</td>\n",
       "      <td>8</td>\n",
       "      <td>16/02/2023</td>\n",
       "      <td>7</td>\n",
       "      <td>SP</td>\n",
       "      <td>GVE I CAPITAL</td>\n",
       "      <td>1331.0</td>\n",
       "      <td>SAO PAULO</td>\n",
       "      <td>355030</td>\n",
       "      <td>BP MIRANTE</td>\n",
       "      <td>...</td>\n",
       "      <td>NaN</td>\n",
       "      <td>NaN</td>\n",
       "      <td>2.0</td>\n",
       "      <td>NaN</td>\n",
       "      <td>NaN</td>\n",
       "      <td>NaN</td>\n",
       "      <td>NaN</td>\n",
       "      <td>NaN</td>\n",
       "      <td>NaN</td>\n",
       "      <td>NaN</td>\n",
       "    </tr>\n",
       "    <tr>\n",
       "      <th>4</th>\n",
       "      <td>27/02/2023</td>\n",
       "      <td>9</td>\n",
       "      <td>25/02/2023</td>\n",
       "      <td>8</td>\n",
       "      <td>PR</td>\n",
       "      <td>02RS METROPOLITANA</td>\n",
       "      <td>1356.0</td>\n",
       "      <td>CURITIBA</td>\n",
       "      <td>410690</td>\n",
       "      <td>HOSPITAL UNIVERSITARIO EVANGELICO MACKENZIE</td>\n",
       "      <td>...</td>\n",
       "      <td>NaN</td>\n",
       "      <td>NaN</td>\n",
       "      <td>2.0</td>\n",
       "      <td>NaN</td>\n",
       "      <td>NaN</td>\n",
       "      <td>NaN</td>\n",
       "      <td>NaN</td>\n",
       "      <td>NaN</td>\n",
       "      <td>NaN</td>\n",
       "      <td>NaN</td>\n",
       "    </tr>\n",
       "  </tbody>\n",
       "</table>\n",
       "<p>5 rows × 190 columns</p>\n",
       "</div>"
      ],
      "text/plain": [
       "   DT_NOTIFIC  SEM_NOT  DT_SIN_PRI  SEM_PRI SG_UF_NOT  \\\n",
       "0  21/01/2023        3  20/01/2023        3        MG   \n",
       "1  14/02/2023        7  13/02/2023        7        SC   \n",
       "2  16/02/2023        7  04/02/2023        5        SP   \n",
       "3  24/02/2023        8  16/02/2023        7        SP   \n",
       "4  27/02/2023        9  25/02/2023        8        PR   \n",
       "\n",
       "                ID_REGIONA  CO_REGIONA     ID_MUNICIP  CO_MUN_NOT  \\\n",
       "0               DIAMANTINA      1450.0        ARACUAI      310340   \n",
       "1            FLORIANOPOLIS      1476.0  FLORIANOPOLIS      420540   \n",
       "2  GVE XXIV RIBEIRAO PRETO      1348.0         CAJURU      350940   \n",
       "3            GVE I CAPITAL      1331.0      SAO PAULO      355030   \n",
       "4       02RS METROPOLITANA      1356.0       CURITIBA      410690   \n",
       "\n",
       "                                          ID_UNIDADE  ...  VG_ENC VG_REINF  \\\n",
       "0              HOSPITAL SAO VICENTE DE PAULO ARACUAI  ...     NaN      NaN   \n",
       "1  INSTITUTO DE ENSINO E PESQUISA DR IRINEU MAY B...  ...     NaN      NaN   \n",
       "2       CASA DE CARIDADE SAO VICENTE DE PAULO CAJURU  ...     NaN      NaN   \n",
       "3                                         BP MIRANTE  ...     NaN      NaN   \n",
       "4        HOSPITAL UNIVERSITARIO EVANGELICO MACKENZIE  ...     NaN      NaN   \n",
       "\n",
       "  REINF  FAB_ADIC  LOT_RE_BI FAB_RE_BI  DOSE_ADIC  DOS_RE_BI LOTE_ADIC TABAG  \n",
       "0   2.0       NaN        NaN       NaN        NaN        NaN       NaN   NaN  \n",
       "1   2.0       NaN        NaN       NaN        NaN        NaN       NaN   NaN  \n",
       "2   2.0       NaN        NaN       NaN        NaN        NaN       NaN   NaN  \n",
       "3   2.0       NaN        NaN       NaN        NaN        NaN       NaN   NaN  \n",
       "4   2.0       NaN        NaN       NaN        NaN        NaN       NaN   NaN  \n",
       "\n",
       "[5 rows x 190 columns]"
      ]
     },
     "execution_count": 159,
     "metadata": {},
     "output_type": "execute_result"
    }
   ],
   "source": [
    "df = pd.read_csv('INFLUD23-05-05-2025.csv', sep=';', encoding='latin1', low_memory=False) # Carregamento do arquivo .csv com a utilização da biblioteca Pandas\n",
    "df.head() # Visualização das cinco primeiras linhas do DataFrame"
   ]
  },
  {
   "cell_type": "markdown",
   "id": "4d773c0d",
   "metadata": {},
   "source": [
    "## 1. DESCRIÇÃO E TRATAMENTO DOS DADOS"
   ]
  },
  {
   "cell_type": "code",
   "execution_count": 160,
   "id": "eac139bc",
   "metadata": {
    "ExecuteTime": {
     "end_time": "2025-05-14T13:14:16.693793Z",
     "start_time": "2025-05-14T13:14:16.460106Z"
    }
   },
   "outputs": [
    {
     "data": {
      "text/html": [
       "<div>\n",
       "<style scoped>\n",
       "    .dataframe tbody tr th:only-of-type {\n",
       "        vertical-align: middle;\n",
       "    }\n",
       "\n",
       "    .dataframe tbody tr th {\n",
       "        vertical-align: top;\n",
       "    }\n",
       "\n",
       "    .dataframe thead th {\n",
       "        text-align: right;\n",
       "    }\n",
       "</style>\n",
       "<table border=\"1\" class=\"dataframe\">\n",
       "  <thead>\n",
       "    <tr style=\"text-align: right;\">\n",
       "      <th></th>\n",
       "      <th>DT_NOTIFIC</th>\n",
       "      <th>SEM_NOT</th>\n",
       "      <th>DT_SIN_PRI</th>\n",
       "      <th>SEM_PRI</th>\n",
       "      <th>SG_UF_NOT</th>\n",
       "      <th>ID_REGIONA</th>\n",
       "      <th>CO_REGIONA</th>\n",
       "      <th>ID_MUNICIP</th>\n",
       "      <th>CO_MUN_NOT</th>\n",
       "      <th>ID_UNIDADE</th>\n",
       "      <th>...</th>\n",
       "      <th>VG_ENC</th>\n",
       "      <th>VG_REINF</th>\n",
       "      <th>REINF</th>\n",
       "      <th>FAB_ADIC</th>\n",
       "      <th>LOT_RE_BI</th>\n",
       "      <th>FAB_RE_BI</th>\n",
       "      <th>DOSE_ADIC</th>\n",
       "      <th>DOS_RE_BI</th>\n",
       "      <th>LOTE_ADIC</th>\n",
       "      <th>TABAG</th>\n",
       "    </tr>\n",
       "  </thead>\n",
       "  <tbody>\n",
       "    <tr>\n",
       "      <th>0</th>\n",
       "      <td>21/01/2023</td>\n",
       "      <td>3</td>\n",
       "      <td>20/01/2023</td>\n",
       "      <td>3</td>\n",
       "      <td>MG</td>\n",
       "      <td>DIAMANTINA</td>\n",
       "      <td>1450.0</td>\n",
       "      <td>ARACUAI</td>\n",
       "      <td>310340</td>\n",
       "      <td>HOSPITAL SAO VICENTE DE PAULO ARACUAI</td>\n",
       "      <td>...</td>\n",
       "      <td>NaN</td>\n",
       "      <td>NaN</td>\n",
       "      <td>2.0</td>\n",
       "      <td>NaN</td>\n",
       "      <td>NaN</td>\n",
       "      <td>NaN</td>\n",
       "      <td>NaN</td>\n",
       "      <td>NaN</td>\n",
       "      <td>NaN</td>\n",
       "      <td>NaN</td>\n",
       "    </tr>\n",
       "    <tr>\n",
       "      <th>1</th>\n",
       "      <td>14/02/2023</td>\n",
       "      <td>7</td>\n",
       "      <td>13/02/2023</td>\n",
       "      <td>7</td>\n",
       "      <td>SC</td>\n",
       "      <td>FLORIANOPOLIS</td>\n",
       "      <td>1476.0</td>\n",
       "      <td>FLORIANOPOLIS</td>\n",
       "      <td>420540</td>\n",
       "      <td>INSTITUTO DE ENSINO E PESQUISA DR IRINEU MAY B...</td>\n",
       "      <td>...</td>\n",
       "      <td>NaN</td>\n",
       "      <td>NaN</td>\n",
       "      <td>2.0</td>\n",
       "      <td>NaN</td>\n",
       "      <td>NaN</td>\n",
       "      <td>NaN</td>\n",
       "      <td>NaN</td>\n",
       "      <td>NaN</td>\n",
       "      <td>NaN</td>\n",
       "      <td>NaN</td>\n",
       "    </tr>\n",
       "    <tr>\n",
       "      <th>2</th>\n",
       "      <td>16/02/2023</td>\n",
       "      <td>7</td>\n",
       "      <td>04/02/2023</td>\n",
       "      <td>5</td>\n",
       "      <td>SP</td>\n",
       "      <td>GVE XXIV RIBEIRAO PRETO</td>\n",
       "      <td>1348.0</td>\n",
       "      <td>CAJURU</td>\n",
       "      <td>350940</td>\n",
       "      <td>CASA DE CARIDADE SAO VICENTE DE PAULO CAJURU</td>\n",
       "      <td>...</td>\n",
       "      <td>NaN</td>\n",
       "      <td>NaN</td>\n",
       "      <td>2.0</td>\n",
       "      <td>NaN</td>\n",
       "      <td>NaN</td>\n",
       "      <td>NaN</td>\n",
       "      <td>NaN</td>\n",
       "      <td>NaN</td>\n",
       "      <td>NaN</td>\n",
       "      <td>NaN</td>\n",
       "    </tr>\n",
       "    <tr>\n",
       "      <th>3</th>\n",
       "      <td>24/02/2023</td>\n",
       "      <td>8</td>\n",
       "      <td>16/02/2023</td>\n",
       "      <td>7</td>\n",
       "      <td>SP</td>\n",
       "      <td>GVE I CAPITAL</td>\n",
       "      <td>1331.0</td>\n",
       "      <td>SAO PAULO</td>\n",
       "      <td>355030</td>\n",
       "      <td>BP MIRANTE</td>\n",
       "      <td>...</td>\n",
       "      <td>NaN</td>\n",
       "      <td>NaN</td>\n",
       "      <td>2.0</td>\n",
       "      <td>NaN</td>\n",
       "      <td>NaN</td>\n",
       "      <td>NaN</td>\n",
       "      <td>NaN</td>\n",
       "      <td>NaN</td>\n",
       "      <td>NaN</td>\n",
       "      <td>NaN</td>\n",
       "    </tr>\n",
       "    <tr>\n",
       "      <th>4</th>\n",
       "      <td>27/02/2023</td>\n",
       "      <td>9</td>\n",
       "      <td>25/02/2023</td>\n",
       "      <td>8</td>\n",
       "      <td>PR</td>\n",
       "      <td>02RS METROPOLITANA</td>\n",
       "      <td>1356.0</td>\n",
       "      <td>CURITIBA</td>\n",
       "      <td>410690</td>\n",
       "      <td>HOSPITAL UNIVERSITARIO EVANGELICO MACKENZIE</td>\n",
       "      <td>...</td>\n",
       "      <td>NaN</td>\n",
       "      <td>NaN</td>\n",
       "      <td>2.0</td>\n",
       "      <td>NaN</td>\n",
       "      <td>NaN</td>\n",
       "      <td>NaN</td>\n",
       "      <td>NaN</td>\n",
       "      <td>NaN</td>\n",
       "      <td>NaN</td>\n",
       "      <td>NaN</td>\n",
       "    </tr>\n",
       "  </tbody>\n",
       "</table>\n",
       "<p>5 rows × 190 columns</p>\n",
       "</div>"
      ],
      "text/plain": [
       "   DT_NOTIFIC  SEM_NOT  DT_SIN_PRI  SEM_PRI SG_UF_NOT  \\\n",
       "0  21/01/2023        3  20/01/2023        3        MG   \n",
       "1  14/02/2023        7  13/02/2023        7        SC   \n",
       "2  16/02/2023        7  04/02/2023        5        SP   \n",
       "3  24/02/2023        8  16/02/2023        7        SP   \n",
       "4  27/02/2023        9  25/02/2023        8        PR   \n",
       "\n",
       "                ID_REGIONA  CO_REGIONA     ID_MUNICIP  CO_MUN_NOT  \\\n",
       "0               DIAMANTINA      1450.0        ARACUAI      310340   \n",
       "1            FLORIANOPOLIS      1476.0  FLORIANOPOLIS      420540   \n",
       "2  GVE XXIV RIBEIRAO PRETO      1348.0         CAJURU      350940   \n",
       "3            GVE I CAPITAL      1331.0      SAO PAULO      355030   \n",
       "4       02RS METROPOLITANA      1356.0       CURITIBA      410690   \n",
       "\n",
       "                                          ID_UNIDADE  ...  VG_ENC VG_REINF  \\\n",
       "0              HOSPITAL SAO VICENTE DE PAULO ARACUAI  ...     NaN      NaN   \n",
       "1  INSTITUTO DE ENSINO E PESQUISA DR IRINEU MAY B...  ...     NaN      NaN   \n",
       "2       CASA DE CARIDADE SAO VICENTE DE PAULO CAJURU  ...     NaN      NaN   \n",
       "3                                         BP MIRANTE  ...     NaN      NaN   \n",
       "4        HOSPITAL UNIVERSITARIO EVANGELICO MACKENZIE  ...     NaN      NaN   \n",
       "\n",
       "  REINF  FAB_ADIC  LOT_RE_BI FAB_RE_BI  DOSE_ADIC  DOS_RE_BI LOTE_ADIC TABAG  \n",
       "0   2.0       NaN        NaN       NaN        NaN        NaN       NaN   NaN  \n",
       "1   2.0       NaN        NaN       NaN        NaN        NaN       NaN   NaN  \n",
       "2   2.0       NaN        NaN       NaN        NaN        NaN       NaN   NaN  \n",
       "3   2.0       NaN        NaN       NaN        NaN        NaN       NaN   NaN  \n",
       "4   2.0       NaN        NaN       NaN        NaN        NaN       NaN   NaN  \n",
       "\n",
       "[5 rows x 190 columns]"
      ]
     },
     "execution_count": 160,
     "metadata": {},
     "output_type": "execute_result"
    }
   ],
   "source": [
    "df1 = df.copy() # A cada mudança de tópico o DataFrame anterior é copiado e atribuído a uma nova variável. Faço isso para caso seja necessário rodar os dados de novo, não ser preciso rodar todo o notebook, apenas a seção que estou trabalhando\n",
    "df1.head()"
   ]
  },
  {
   "cell_type": "markdown",
   "id": "942e502d",
   "metadata": {},
   "source": [
    "### 1.1. DIMENSÃO DOS DADOS\n",
    "\n",
    "Verificação da quantidade de linhas e colunas da base original"
   ]
  },
  {
   "cell_type": "code",
   "execution_count": 161,
   "id": "5c259c08",
   "metadata": {
    "ExecuteTime": {
     "end_time": "2025-05-14T13:14:16.709653Z",
     "start_time": "2025-05-14T13:14:16.696796Z"
    }
   },
   "outputs": [
    {
     "name": "stdout",
     "output_type": "stream",
     "text": [
      "Quantidade de linhas: 278980\n",
      "Quantidade de colunas: 190\n",
      "\n",
      "Colunas disponíveis: ['DT_NOTIFIC', 'SEM_NOT', 'DT_SIN_PRI', 'SEM_PRI', 'SG_UF_NOT', 'ID_REGIONA', 'CO_REGIONA', 'ID_MUNICIP', 'CO_MUN_NOT', 'ID_UNIDADE', 'CO_UNI_NOT', 'CS_SEXO', 'DT_NASC', 'NU_IDADE_N', 'TP_IDADE', 'COD_IDADE', 'CS_GESTANT', 'CS_RACA', 'CS_ESCOL_N', 'ID_PAIS', 'CO_PAIS', 'SG_UF', 'ID_RG_RESI', 'CO_RG_RESI', 'ID_MN_RESI', 'CO_MUN_RES', 'CS_ZONA', 'SURTO_SG', 'NOSOCOMIAL', 'AVE_SUINO', 'FEBRE', 'TOSSE', 'GARGANTA', 'DISPNEIA', 'DESC_RESP', 'SATURACAO', 'DIARREIA', 'VOMITO', 'OUTRO_SIN', 'OUTRO_DES', 'PUERPERA', 'FATOR_RISC', 'CARDIOPATI', 'HEMATOLOGI', 'SIND_DOWN', 'HEPATICA', 'ASMA', 'DIABETES', 'NEUROLOGIC', 'PNEUMOPATI', 'IMUNODEPRE', 'RENAL', 'OBESIDADE', 'OBES_IMC', 'OUT_MORBI', 'MORB_DESC', 'VACINA', 'DT_UT_DOSE', 'MAE_VAC', 'DT_VAC_MAE', 'M_AMAMENTA', 'DT_DOSEUNI', 'DT_1_DOSE', 'DT_2_DOSE', 'ANTIVIRAL', 'TP_ANTIVIR', 'OUT_ANTIV', 'DT_ANTIVIR', 'HOSPITAL', 'DT_INTERNA', 'SG_UF_INTE', 'ID_RG_INTE', 'CO_RG_INTE', 'ID_MN_INTE', 'CO_MU_INTE', 'UTI', 'DT_ENTUTI', 'DT_SAIDUTI', 'SUPORT_VEN', 'RAIOX_RES', 'RAIOX_OUT', 'DT_RAIOX', 'AMOSTRA', 'DT_COLETA', 'TP_AMOSTRA', 'OUT_AMOST', 'PCR_RESUL', 'DT_PCR', 'POS_PCRFLU', 'TP_FLU_PCR', 'PCR_FLUASU', 'FLUASU_OUT', 'PCR_FLUBLI', 'FLUBLI_OUT', 'POS_PCROUT', 'PCR_VSR', 'PCR_PARA1', 'PCR_PARA2', 'PCR_PARA3', 'PCR_PARA4', 'PCR_ADENO', 'PCR_METAP', 'PCR_BOCA', 'PCR_RINO', 'PCR_OUTRO', 'DS_PCR_OUT', 'CLASSI_FIN', 'CLASSI_OUT', 'CRITERIO', 'EVOLUCAO', 'DT_EVOLUCA', 'DT_ENCERRA', 'DT_DIGITA', 'HISTO_VGM', 'PAIS_VGM', 'CO_PS_VGM', 'LO_PS_VGM', 'DT_VGM', 'DT_RT_VGM', 'PCR_SARS2', 'PAC_COCBO', 'PAC_DSCBO', 'OUT_ANIM', 'DOR_ABD', 'FADIGA', 'PERD_OLFT', 'PERD_PALA', 'TOMO_RES', 'TOMO_OUT', 'DT_TOMO', 'TP_TES_AN', 'DT_RES_AN', 'RES_AN', 'POS_AN_FLU', 'TP_FLU_AN', 'POS_AN_OUT', 'AN_SARS2', 'AN_VSR', 'AN_PARA1', 'AN_PARA2', 'AN_PARA3', 'AN_ADENO', 'AN_OUTRO', 'DS_AN_OUT', 'TP_AM_SOR', 'SOR_OUT', 'DT_CO_SOR', 'TP_SOR', 'OUT_SOR', 'DT_RES', 'RES_IGG', 'RES_IGM', 'RES_IGA', 'ESTRANG', 'VACINA_COV', 'DOSE_1_COV', 'DOSE_2_COV', 'DOSE_REF', 'FAB_COV_1', 'FAB_COV_2', 'FAB_COVREF', 'LAB_PR_COV', 'LOTE_1_COV', 'LOTE_2_COV', 'LOTE_REF', 'FNT_IN_COV', 'DOSE_2REF', 'FAB_COVRF2', 'LOTE_REF2', 'TRAT_COV', 'TIPO_TRAT', 'OUT_TRAT', 'DT_TRT_COV', 'CO_DETEC', 'VG_OMS', 'VG_OMSOUT', 'VG_LIN', 'VG_MET', 'VG_METOUT', 'VG_DTRES', 'VG_ENC', 'VG_REINF', 'REINF', 'FAB_ADIC', 'LOT_RE_BI', 'FAB_RE_BI', 'DOSE_ADIC', 'DOS_RE_BI', 'LOTE_ADIC', 'TABAG']\n"
     ]
    }
   ],
   "source": [
    "print(f'Quantidade de linhas: {df1.shape[0]}')\n",
    "print(f'Quantidade de colunas: {df1.shape[1]}')\n",
    "\n",
    "print(f'\\nColunas disponíveis: {df.columns.tolist()}')"
   ]
  },
  {
   "cell_type": "markdown",
   "id": "6daa9e2f",
   "metadata": {},
   "source": [
    "### 1.2. TIPOS DE DADOS\n",
    "\n",
    "Obtenção dos tipos de dados, conversão de colunas para os tipos apropriados (ex: datas e numéricos) e geração de estatísticas descritivas (média, mediana, desvio-padrão etc)"
   ]
  },
  {
   "cell_type": "code",
   "execution_count": 162,
   "id": "4c55cd8d",
   "metadata": {
    "ExecuteTime": {
     "end_time": "2025-05-14T13:14:16.724906Z",
     "start_time": "2025-05-14T13:14:16.713241Z"
    }
   },
   "outputs": [
    {
     "data": {
      "text/plain": [
       "DT_NOTIFIC     object\n",
       "SEM_NOT         int64\n",
       "DT_SIN_PRI     object\n",
       "SEM_PRI         int64\n",
       "SG_UF_NOT      object\n",
       "               ...   \n",
       "FAB_RE_BI      object\n",
       "DOSE_ADIC      object\n",
       "DOS_RE_BI      object\n",
       "LOTE_ADIC      object\n",
       "TABAG         float64\n",
       "Length: 190, dtype: object"
      ]
     },
     "execution_count": 162,
     "metadata": {},
     "output_type": "execute_result"
    }
   ],
   "source": [
    "df1.dtypes"
   ]
  },
  {
   "cell_type": "markdown",
   "id": "b5d19f40",
   "metadata": {},
   "source": [
    "#### 1.2.1. TRANSFORMAÇÃO DOS TIPOS DE DADOS"
   ]
  },
  {
   "cell_type": "code",
   "execution_count": 163,
   "id": "5a45736a",
   "metadata": {
    "ExecuteTime": {
     "end_time": "2025-05-14T13:14:25.529954Z",
     "start_time": "2025-05-14T13:14:16.727192Z"
    }
   },
   "outputs": [],
   "source": [
    "# Todas as colunas com DT são referentes a uma data, mas estão classificadas como uma string (object), realizei a alteração de todas as colunas para o formato datetime\n",
    "\n",
    "colunas_data = [col for col in df1.columns if col.startswith('DT_')] # Loop for buscando todas as colunas que começam com 'DT_'\n",
    "df1[colunas_data] = df1[colunas_data].apply(pd.to_datetime, errors = 'coerce') # Função que converte string (object) em datetime64[ns]\n",
    "df1[colunas_data].dtypes # Confirmar que todas as colunas foram devidamente alteradas\n",
    "df1['EVOLUCAO'] = pd.to_numeric(df1['EVOLUCAO'], errors='coerce').astype('Int64') # No item 1.6 tive um problema por conta do tipo de dado, como existia uma seção para isso, coloquei aqui para ficar mais organizado"
   ]
  },
  {
   "cell_type": "markdown",
   "id": "12cfbfa3",
   "metadata": {},
   "source": [
    "#### 1.2.2. DESCRIÇÃO ESTATÍSTICA DOS DADOS"
   ]
  },
  {
   "cell_type": "code",
   "execution_count": 164,
   "id": "7930a094",
   "metadata": {
    "ExecuteTime": {
     "end_time": "2025-05-14T13:14:26.618108Z",
     "start_time": "2025-05-14T13:14:25.534040Z"
    }
   },
   "outputs": [
    {
     "data": {
      "text/html": [
       "<div>\n",
       "<style scoped>\n",
       "    .dataframe tbody tr th:only-of-type {\n",
       "        vertical-align: middle;\n",
       "    }\n",
       "\n",
       "    .dataframe tbody tr th {\n",
       "        vertical-align: top;\n",
       "    }\n",
       "\n",
       "    .dataframe thead th {\n",
       "        text-align: right;\n",
       "    }\n",
       "</style>\n",
       "<table border=\"1\" class=\"dataframe\">\n",
       "  <thead>\n",
       "    <tr style=\"text-align: right;\">\n",
       "      <th></th>\n",
       "      <th>count</th>\n",
       "      <th>mean</th>\n",
       "      <th>std</th>\n",
       "      <th>min</th>\n",
       "      <th>25%</th>\n",
       "      <th>50%</th>\n",
       "      <th>75%</th>\n",
       "      <th>max</th>\n",
       "    </tr>\n",
       "  </thead>\n",
       "  <tbody>\n",
       "    <tr>\n",
       "      <th>SEM_NOT</th>\n",
       "      <td>278980.0</td>\n",
       "      <td>24.611055</td>\n",
       "      <td>13.878645</td>\n",
       "      <td>1.0</td>\n",
       "      <td>13.0</td>\n",
       "      <td>23.0</td>\n",
       "      <td>36.0</td>\n",
       "      <td>52.0</td>\n",
       "    </tr>\n",
       "    <tr>\n",
       "      <th>SEM_PRI</th>\n",
       "      <td>278980.0</td>\n",
       "      <td>24.167991</td>\n",
       "      <td>13.925095</td>\n",
       "      <td>1.0</td>\n",
       "      <td>13.0</td>\n",
       "      <td>22.0</td>\n",
       "      <td>36.0</td>\n",
       "      <td>52.0</td>\n",
       "    </tr>\n",
       "    <tr>\n",
       "      <th>CO_REGIONA</th>\n",
       "      <td>243685.0</td>\n",
       "      <td>1560.322888</td>\n",
       "      <td>652.749729</td>\n",
       "      <td>1331.0</td>\n",
       "      <td>1348.0</td>\n",
       "      <td>1418.0</td>\n",
       "      <td>1519.0</td>\n",
       "      <td>6256.0</td>\n",
       "    </tr>\n",
       "    <tr>\n",
       "      <th>CO_MUN_NOT</th>\n",
       "      <td>278980.0</td>\n",
       "      <td>346439.014954</td>\n",
       "      <td>92149.88152</td>\n",
       "      <td>110002.0</td>\n",
       "      <td>310620.0</td>\n",
       "      <td>352530.0</td>\n",
       "      <td>410830.0</td>\n",
       "      <td>530010.0</td>\n",
       "    </tr>\n",
       "    <tr>\n",
       "      <th>CO_UNI_NOT</th>\n",
       "      <td>278980.0</td>\n",
       "      <td>3187047.254792</td>\n",
       "      <td>2388095.595014</td>\n",
       "      <td>35.0</td>\n",
       "      <td>2081490.0</td>\n",
       "      <td>2493853.0</td>\n",
       "      <td>3356868.0</td>\n",
       "      <td>9997091.0</td>\n",
       "    </tr>\n",
       "    <tr>\n",
       "      <th>...</th>\n",
       "      <td>...</td>\n",
       "      <td>...</td>\n",
       "      <td>...</td>\n",
       "      <td>...</td>\n",
       "      <td>...</td>\n",
       "      <td>...</td>\n",
       "      <td>...</td>\n",
       "      <td>...</td>\n",
       "    </tr>\n",
       "    <tr>\n",
       "      <th>VG_MET</th>\n",
       "      <td>1752.0</td>\n",
       "      <td>2.308219</td>\n",
       "      <td>1.124861</td>\n",
       "      <td>1.0</td>\n",
       "      <td>1.0</td>\n",
       "      <td>3.0</td>\n",
       "      <td>3.0</td>\n",
       "      <td>4.0</td>\n",
       "    </tr>\n",
       "    <tr>\n",
       "      <th>VG_ENC</th>\n",
       "      <td>1613.0</td>\n",
       "      <td>2.594544</td>\n",
       "      <td>1.619291</td>\n",
       "      <td>1.0</td>\n",
       "      <td>1.0</td>\n",
       "      <td>3.0</td>\n",
       "      <td>4.0</td>\n",
       "      <td>5.0</td>\n",
       "    </tr>\n",
       "    <tr>\n",
       "      <th>VG_REINF</th>\n",
       "      <td>0.0</td>\n",
       "      <td>NaN</td>\n",
       "      <td>NaN</td>\n",
       "      <td>NaN</td>\n",
       "      <td>NaN</td>\n",
       "      <td>NaN</td>\n",
       "      <td>NaN</td>\n",
       "      <td>NaN</td>\n",
       "    </tr>\n",
       "    <tr>\n",
       "      <th>REINF</th>\n",
       "      <td>270338.0</td>\n",
       "      <td>2.0</td>\n",
       "      <td>0.0</td>\n",
       "      <td>2.0</td>\n",
       "      <td>2.0</td>\n",
       "      <td>2.0</td>\n",
       "      <td>2.0</td>\n",
       "      <td>2.0</td>\n",
       "    </tr>\n",
       "    <tr>\n",
       "      <th>TABAG</th>\n",
       "      <td>0.0</td>\n",
       "      <td>NaN</td>\n",
       "      <td>NaN</td>\n",
       "      <td>NaN</td>\n",
       "      <td>NaN</td>\n",
       "      <td>NaN</td>\n",
       "      <td>NaN</td>\n",
       "      <td>NaN</td>\n",
       "    </tr>\n",
       "  </tbody>\n",
       "</table>\n",
       "<p>103 rows × 8 columns</p>\n",
       "</div>"
      ],
      "text/plain": [
       "               count            mean             std       min        25%  \\\n",
       "SEM_NOT     278980.0       24.611055       13.878645       1.0       13.0   \n",
       "SEM_PRI     278980.0       24.167991       13.925095       1.0       13.0   \n",
       "CO_REGIONA  243685.0     1560.322888      652.749729    1331.0     1348.0   \n",
       "CO_MUN_NOT  278980.0   346439.014954     92149.88152  110002.0   310620.0   \n",
       "CO_UNI_NOT  278980.0  3187047.254792  2388095.595014      35.0  2081490.0   \n",
       "...              ...             ...             ...       ...        ...   \n",
       "VG_MET        1752.0        2.308219        1.124861       1.0        1.0   \n",
       "VG_ENC        1613.0        2.594544        1.619291       1.0        1.0   \n",
       "VG_REINF         0.0             NaN             NaN       NaN        NaN   \n",
       "REINF       270338.0             2.0             0.0       2.0        2.0   \n",
       "TABAG            0.0             NaN             NaN       NaN        NaN   \n",
       "\n",
       "                  50%        75%        max  \n",
       "SEM_NOT          23.0       36.0       52.0  \n",
       "SEM_PRI          22.0       36.0       52.0  \n",
       "CO_REGIONA     1418.0     1519.0     6256.0  \n",
       "CO_MUN_NOT   352530.0   410830.0   530010.0  \n",
       "CO_UNI_NOT  2493853.0  3356868.0  9997091.0  \n",
       "...               ...        ...        ...  \n",
       "VG_MET            3.0        3.0        4.0  \n",
       "VG_ENC            3.0        4.0        5.0  \n",
       "VG_REINF          NaN        NaN        NaN  \n",
       "REINF             2.0        2.0        2.0  \n",
       "TABAG             NaN        NaN        NaN  \n",
       "\n",
       "[103 rows x 8 columns]"
      ]
     },
     "execution_count": 164,
     "metadata": {},
     "output_type": "execute_result"
    }
   ],
   "source": [
    "df1.describe().T # Utilização do método .describe() para resumo das descrições estatísticas do DataFrame"
   ]
  },
  {
   "cell_type": "markdown",
   "id": "eefe571f",
   "metadata": {},
   "source": [
    "### 1.3. SELEÇÃO DE COLUNAS\n",
    "\n",
    "A base foi carregada a partir do arquivo `INFLUD-21-05-2024.csv`, contendo 278.980 registros e 190 variáveis. Devido à complexidade e volume da base, foram selecionadas apenas as colunas consideradas relevantes para o objetivo da análise."
   ]
  },
  {
   "cell_type": "code",
   "execution_count": 165,
   "id": "f1c6c6c8",
   "metadata": {
    "ExecuteTime": {
     "end_time": "2025-05-14T13:14:28.031468Z",
     "start_time": "2025-05-14T13:14:27.941862Z"
    }
   },
   "outputs": [
    {
     "data": {
      "text/html": [
       "<div>\n",
       "<style scoped>\n",
       "    .dataframe tbody tr th:only-of-type {\n",
       "        vertical-align: middle;\n",
       "    }\n",
       "\n",
       "    .dataframe tbody tr th {\n",
       "        vertical-align: top;\n",
       "    }\n",
       "\n",
       "    .dataframe thead th {\n",
       "        text-align: right;\n",
       "    }\n",
       "</style>\n",
       "<table border=\"1\" class=\"dataframe\">\n",
       "  <thead>\n",
       "    <tr style=\"text-align: right;\">\n",
       "      <th></th>\n",
       "      <th>DT_NOTIFIC</th>\n",
       "      <th>SG_UF_NOT</th>\n",
       "      <th>CS_SEXO</th>\n",
       "      <th>NU_IDADE_N</th>\n",
       "      <th>CS_RACA</th>\n",
       "      <th>CS_ESCOL_N</th>\n",
       "      <th>FEBRE</th>\n",
       "      <th>TOSSE</th>\n",
       "      <th>VACINA</th>\n",
       "      <th>UTI</th>\n",
       "      <th>SUPORT_VEN</th>\n",
       "      <th>EVOLUCAO</th>\n",
       "      <th>CLASSI_FIN</th>\n",
       "      <th>CARDIOPATI</th>\n",
       "      <th>DIABETES</th>\n",
       "      <th>OBESIDADE</th>\n",
       "      <th>PUERPERA</th>\n",
       "    </tr>\n",
       "  </thead>\n",
       "  <tbody>\n",
       "    <tr>\n",
       "      <th>0</th>\n",
       "      <td>2023-01-21</td>\n",
       "      <td>MG</td>\n",
       "      <td>F</td>\n",
       "      <td>82</td>\n",
       "      <td>1.0</td>\n",
       "      <td>1</td>\n",
       "      <td>1.0</td>\n",
       "      <td>1.0</td>\n",
       "      <td>1.0</td>\n",
       "      <td>2.0</td>\n",
       "      <td>NaN</td>\n",
       "      <td>1</td>\n",
       "      <td>5.0</td>\n",
       "      <td>2.0</td>\n",
       "      <td>1.0</td>\n",
       "      <td>2.0</td>\n",
       "      <td>2.0</td>\n",
       "    </tr>\n",
       "    <tr>\n",
       "      <th>1</th>\n",
       "      <td>2023-02-14</td>\n",
       "      <td>SC</td>\n",
       "      <td>M</td>\n",
       "      <td>76</td>\n",
       "      <td>1.0</td>\n",
       "      <td>NaN</td>\n",
       "      <td>NaN</td>\n",
       "      <td>NaN</td>\n",
       "      <td>NaN</td>\n",
       "      <td>2.0</td>\n",
       "      <td>3.0</td>\n",
       "      <td>1</td>\n",
       "      <td>4.0</td>\n",
       "      <td>1.0</td>\n",
       "      <td>NaN</td>\n",
       "      <td>NaN</td>\n",
       "      <td>NaN</td>\n",
       "    </tr>\n",
       "    <tr>\n",
       "      <th>2</th>\n",
       "      <td>2023-02-16</td>\n",
       "      <td>SP</td>\n",
       "      <td>F</td>\n",
       "      <td>18</td>\n",
       "      <td>1.0</td>\n",
       "      <td>NaN</td>\n",
       "      <td>1.0</td>\n",
       "      <td>1.0</td>\n",
       "      <td>NaN</td>\n",
       "      <td>NaN</td>\n",
       "      <td>3.0</td>\n",
       "      <td>1</td>\n",
       "      <td>5.0</td>\n",
       "      <td>NaN</td>\n",
       "      <td>NaN</td>\n",
       "      <td>NaN</td>\n",
       "      <td>NaN</td>\n",
       "    </tr>\n",
       "    <tr>\n",
       "      <th>3</th>\n",
       "      <td>2023-02-24</td>\n",
       "      <td>SP</td>\n",
       "      <td>F</td>\n",
       "      <td>20</td>\n",
       "      <td>4.0</td>\n",
       "      <td>9</td>\n",
       "      <td>NaN</td>\n",
       "      <td>NaN</td>\n",
       "      <td>9.0</td>\n",
       "      <td>NaN</td>\n",
       "      <td>NaN</td>\n",
       "      <td>1</td>\n",
       "      <td>5.0</td>\n",
       "      <td>NaN</td>\n",
       "      <td>NaN</td>\n",
       "      <td>NaN</td>\n",
       "      <td>NaN</td>\n",
       "    </tr>\n",
       "    <tr>\n",
       "      <th>4</th>\n",
       "      <td>2023-02-27</td>\n",
       "      <td>PR</td>\n",
       "      <td>M</td>\n",
       "      <td>2</td>\n",
       "      <td>4.0</td>\n",
       "      <td>5</td>\n",
       "      <td>1.0</td>\n",
       "      <td>1.0</td>\n",
       "      <td>9.0</td>\n",
       "      <td>2.0</td>\n",
       "      <td>3.0</td>\n",
       "      <td>1</td>\n",
       "      <td>2.0</td>\n",
       "      <td>NaN</td>\n",
       "      <td>NaN</td>\n",
       "      <td>NaN</td>\n",
       "      <td>NaN</td>\n",
       "    </tr>\n",
       "  </tbody>\n",
       "</table>\n",
       "</div>"
      ],
      "text/plain": [
       "  DT_NOTIFIC SG_UF_NOT CS_SEXO  NU_IDADE_N  CS_RACA CS_ESCOL_N  FEBRE  TOSSE  \\\n",
       "0 2023-01-21        MG       F          82      1.0          1    1.0    1.0   \n",
       "1 2023-02-14        SC       M          76      1.0        NaN    NaN    NaN   \n",
       "2 2023-02-16        SP       F          18      1.0        NaN    1.0    1.0   \n",
       "3 2023-02-24        SP       F          20      4.0          9    NaN    NaN   \n",
       "4 2023-02-27        PR       M           2      4.0          5    1.0    1.0   \n",
       "\n",
       "   VACINA  UTI  SUPORT_VEN  EVOLUCAO  CLASSI_FIN  CARDIOPATI  DIABETES  \\\n",
       "0     1.0  2.0         NaN         1         5.0         2.0       1.0   \n",
       "1     NaN  2.0         3.0         1         4.0         1.0       NaN   \n",
       "2     NaN  NaN         3.0         1         5.0         NaN       NaN   \n",
       "3     9.0  NaN         NaN         1         5.0         NaN       NaN   \n",
       "4     9.0  2.0         3.0         1         2.0         NaN       NaN   \n",
       "\n",
       "   OBESIDADE  PUERPERA  \n",
       "0        2.0       2.0  \n",
       "1        NaN       NaN  \n",
       "2        NaN       NaN  \n",
       "3        NaN       NaN  \n",
       "4        NaN       NaN  "
      ]
     },
     "execution_count": 165,
     "metadata": {},
     "output_type": "execute_result"
    }
   ],
   "source": [
    "colunas_selecionadas = ['DT_NOTIFIC', 'SG_UF_NOT', 'CS_SEXO', 'NU_IDADE_N', 'CS_RACA', 'CS_ESCOL_N', \n",
    "                        'FEBRE', 'TOSSE', 'VACINA', 'UTI', 'SUPORT_VEN', 'EVOLUCAO', 'CLASSI_FIN',\n",
    "                        'CARDIOPATI', 'DIABETES', 'OBESIDADE', 'PUERPERA'] # Lista com as colunas selecionadas\n",
    "\n",
    "df_selecionado = df1[colunas_selecionadas].copy() # Criação de um novo DataFrame apenas com as colunas selecionadas\n",
    "df_selecionado.head()"
   ]
  },
  {
   "cell_type": "markdown",
   "id": "d055cc0a",
   "metadata": {},
   "source": [
    "### 1.4. CHECAGEM DE VALORES NULOS\n",
    "\n",
    "Identificação de colunas com dados ausentes"
   ]
  },
  {
   "cell_type": "code",
   "execution_count": 166,
   "id": "a96d9fc6",
   "metadata": {
    "ExecuteTime": {
     "end_time": "2025-05-14T13:14:29.310824Z",
     "start_time": "2025-05-14T13:14:29.170574Z"
    }
   },
   "outputs": [
    {
     "data": {
      "text/plain": [
       "DT_NOTIFIC         0\n",
       "SG_UF_NOT          0\n",
       "CS_SEXO            0\n",
       "NU_IDADE_N         0\n",
       "CS_RACA            1\n",
       "CS_ESCOL_N     99971\n",
       "FEBRE          39126\n",
       "TOSSE          25030\n",
       "VACINA        125978\n",
       "UTI            32851\n",
       "SUPORT_VEN     34666\n",
       "EVOLUCAO       13759\n",
       "CLASSI_FIN      8184\n",
       "CARDIOPATI    183545\n",
       "DIABETES      189043\n",
       "OBESIDADE     198039\n",
       "PUERPERA      198799\n",
       "dtype: int64"
      ]
     },
     "execution_count": 166,
     "metadata": {},
     "output_type": "execute_result"
    }
   ],
   "source": [
    "df_selecionado.isna().sum()"
   ]
  },
  {
   "cell_type": "markdown",
   "id": "c8282dc8",
   "metadata": {},
   "source": [
    "### 1.5. FILTRAGEM E SUBSTITUIÇÃO DE VALORES NULOS\n",
    "\n",
    "Linhas com valores nulos foram substituídas por \"Ignorado\" e, quando necessário, ocorreu a filtragem com a exclusão de linhas com essa informação"
   ]
  },
  {
   "cell_type": "code",
   "execution_count": 167,
   "id": "89b9feb3",
   "metadata": {
    "ExecuteTime": {
     "end_time": "2025-05-14T13:14:31.610956Z",
     "start_time": "2025-05-14T13:14:30.770893Z"
    },
    "scrolled": true
   },
   "outputs": [
    {
     "data": {
      "text/plain": [
       "DT_NOTIFIC    0\n",
       "SG_UF_NOT     0\n",
       "CS_SEXO       0\n",
       "NU_IDADE_N    0\n",
       "CS_RACA       0\n",
       "CS_ESCOL_N    0\n",
       "FEBRE         0\n",
       "TOSSE         0\n",
       "VACINA        0\n",
       "UTI           0\n",
       "SUPORT_VEN    0\n",
       "EVOLUCAO      0\n",
       "CLASSI_FIN    0\n",
       "CARDIOPATI    0\n",
       "DIABETES      0\n",
       "OBESIDADE     0\n",
       "PUERPERA      0\n",
       "dtype: int64"
      ]
     },
     "execution_count": 167,
     "metadata": {},
     "output_type": "execute_result"
    }
   ],
   "source": [
    "colunas_ignorar_nulo = ['CS_RACA', 'CS_ESCOL_N', 'FEBRE', 'TOSSE', 'VACINA', 'UTI', 'SUPORT_VEN', \n",
    "                        'CLASSI_FIN', 'CARDIOPATI', 'DIABETES', 'OBESIDADE', 'PUERPERA'] # Seleção das colunas que serão tratadas\n",
    "\n",
    "for col in colunas_ignorar_nulo:\n",
    "    df_selecionado[col] = df_selecionado[col].fillna('Ignorado') # Loop for que atribui 'Igonorado' em todos os valores nulos dentro das colunas selecionadas\n",
    "\n",
    "df_selecionado = df_selecionado[df_selecionado['EVOLUCAO'] != 'Ignorado'] # Filtragem do dataset excluindo as linhas onde a coluna EVOLUCAO possui valor 'Ignorado'\n",
    "\n",
    "df_selecionado.isna().sum() # Verifica se todos os valores nulos foram tratados"
   ]
  },
  {
   "cell_type": "markdown",
   "id": "93006371",
   "metadata": {},
   "source": [
    "### 1.6. MAPEAMENTO EM VARIÁVEIS CATEGÓRICAS\n",
    "\n",
    "Como as variáveis categóricas na base de dados estavam representadas por códigos numéricos (por exemplo, de 1 a 9), a leitura e a apresentação dessas informações em gráficos ficariam comprometidas. Por isso, os códigos foram substituídos por rótulos com palavras mais representativas e compreensíveis.\n",
    "\n",
    "Posteriormente, será necessário aplicar técnicas de conversão dessas variáveis categóricas em numéricas, para que os modelos de Machine Learning possam utilizá-las adequadamente. No entanto, essa etapa não faz parte da análise atual."
   ]
  },
  {
   "cell_type": "code",
   "execution_count": 168,
   "id": "6123176e",
   "metadata": {
    "ExecuteTime": {
     "end_time": "2025-05-14T13:14:32.711062Z",
     "start_time": "2025-05-14T13:14:32.691393Z"
    }
   },
   "outputs": [],
   "source": [
    "map_binario = {1: 'Sim', 2: 'Não', 3.0: 'Ignorado', 9: 'Ignorado'}\n",
    "map_sexo = {'M': 'Masculino', 'F': 'Feminino'}\n",
    "map_evolucao = {1: 'Cura', 2: 'Óbito', 3: 'Óbito por outras causas', 9: 'Ignorado'}\n",
    "map_classi = {1: 'SRAG por Influenza', 2: 'SRAG por outro vírus', 3: 'SRAG por outro agente etiológico',\n",
    "              4: 'SRAG não especificado', 5: 'SRAG por COVID-19'}"
   ]
  },
  {
   "cell_type": "code",
   "execution_count": 169,
   "id": "e804ca88",
   "metadata": {
    "ExecuteTime": {
     "end_time": "2025-05-14T13:14:34.421358Z",
     "start_time": "2025-05-14T13:14:33.382094Z"
    }
   },
   "outputs": [],
   "source": [
    "df_selecionado['CS_SEXO'] = df_selecionado['CS_SEXO'].map(map_sexo) # Substituição pelos valores do dicionário map_sexo\n",
    "df_selecionado['EVOLUCAO'] = df_selecionado['EVOLUCAO'].map(map_evolucao) # Substituição pelos valores do dicionário map_evolucao\n",
    "df_selecionado['CLASSI_FIN'] = df_selecionado['CLASSI_FIN'].map(map_classi) # Substituição pelos valores do dicionário map_classi\n",
    "\n",
    "for col in ['FEBRE', 'TOSSE', 'VACINA', 'UTI', 'SUPORT_VEN', 'CARDIOPATI', 'DIABETES', 'OBESIDADE', 'PUERPERA']:\n",
    "    df_selecionado[col] = df_selecionado[col].replace(map_binario) # Substituição pelos valores do dicionário map_binario"
   ]
  },
  {
   "cell_type": "code",
   "execution_count": 170,
   "id": "4a4e0d2c",
   "metadata": {
    "ExecuteTime": {
     "end_time": "2025-05-14T13:14:34.584989Z",
     "start_time": "2025-05-14T13:14:34.426432Z"
    },
    "scrolled": true
   },
   "outputs": [
    {
     "name": "stdout",
     "output_type": "stream",
     "text": [
      "FEBRE: ['Sim' 'Ignorado' 'Não']\n",
      "TOSSE: ['Sim' 'Ignorado' 'Não']\n",
      "VACINA: ['Sim' 'Ignorado' 'Não']\n",
      "UTI: ['Não' 'Ignorado' 'Sim']\n",
      "SUPORT_VEN: ['Ignorado' 'Não' 'Sim']\n",
      "CARDIOPATI: ['Não' 'Sim' 'Ignorado']\n",
      "DIABETES: ['Sim' 'Ignorado' 'Não']\n",
      "OBESIDADE: ['Não' 'Ignorado' 'Sim']\n",
      "PUERPERA: ['Não' 'Ignorado' 'Sim']\n"
     ]
    }
   ],
   "source": [
    "for col in ['FEBRE', 'TOSSE', 'VACINA', 'UTI', 'SUPORT_VEN', 'CARDIOPATI', 'DIABETES', 'OBESIDADE', 'PUERPERA']:\n",
    "    print(f\"{col}: {df_selecionado[col].unique()}\") # O método .map() não apresentou o resultado esperado nas colunas selecionados, por esse motivo foi utilizado o método .replace() e aqui foi verificado se os valores foram substituídos de forma correta"
   ]
  },
  {
   "cell_type": "code",
   "execution_count": 171,
   "id": "4e22e472",
   "metadata": {
    "ExecuteTime": {
     "end_time": "2025-05-14T13:14:35.476334Z",
     "start_time": "2025-05-14T13:14:35.448160Z"
    },
    "scrolled": true
   },
   "outputs": [
    {
     "data": {
      "text/html": [
       "<div>\n",
       "<style scoped>\n",
       "    .dataframe tbody tr th:only-of-type {\n",
       "        vertical-align: middle;\n",
       "    }\n",
       "\n",
       "    .dataframe tbody tr th {\n",
       "        vertical-align: top;\n",
       "    }\n",
       "\n",
       "    .dataframe thead th {\n",
       "        text-align: right;\n",
       "    }\n",
       "</style>\n",
       "<table border=\"1\" class=\"dataframe\">\n",
       "  <thead>\n",
       "    <tr style=\"text-align: right;\">\n",
       "      <th></th>\n",
       "      <th>DT_NOTIFIC</th>\n",
       "      <th>SG_UF_NOT</th>\n",
       "      <th>CS_SEXO</th>\n",
       "      <th>NU_IDADE_N</th>\n",
       "      <th>CS_RACA</th>\n",
       "      <th>CS_ESCOL_N</th>\n",
       "      <th>FEBRE</th>\n",
       "      <th>TOSSE</th>\n",
       "      <th>VACINA</th>\n",
       "      <th>UTI</th>\n",
       "      <th>SUPORT_VEN</th>\n",
       "      <th>EVOLUCAO</th>\n",
       "      <th>CLASSI_FIN</th>\n",
       "      <th>CARDIOPATI</th>\n",
       "      <th>DIABETES</th>\n",
       "      <th>OBESIDADE</th>\n",
       "      <th>PUERPERA</th>\n",
       "    </tr>\n",
       "  </thead>\n",
       "  <tbody>\n",
       "    <tr>\n",
       "      <th>0</th>\n",
       "      <td>2023-01-21</td>\n",
       "      <td>MG</td>\n",
       "      <td>Feminino</td>\n",
       "      <td>82</td>\n",
       "      <td>1.0</td>\n",
       "      <td>1</td>\n",
       "      <td>Sim</td>\n",
       "      <td>Sim</td>\n",
       "      <td>Sim</td>\n",
       "      <td>Não</td>\n",
       "      <td>Ignorado</td>\n",
       "      <td>Cura</td>\n",
       "      <td>SRAG por COVID-19</td>\n",
       "      <td>Não</td>\n",
       "      <td>Sim</td>\n",
       "      <td>Não</td>\n",
       "      <td>Não</td>\n",
       "    </tr>\n",
       "    <tr>\n",
       "      <th>1</th>\n",
       "      <td>2023-02-14</td>\n",
       "      <td>SC</td>\n",
       "      <td>Masculino</td>\n",
       "      <td>76</td>\n",
       "      <td>1.0</td>\n",
       "      <td>Ignorado</td>\n",
       "      <td>Ignorado</td>\n",
       "      <td>Ignorado</td>\n",
       "      <td>Ignorado</td>\n",
       "      <td>Não</td>\n",
       "      <td>Ignorado</td>\n",
       "      <td>Cura</td>\n",
       "      <td>SRAG não especificado</td>\n",
       "      <td>Sim</td>\n",
       "      <td>Ignorado</td>\n",
       "      <td>Ignorado</td>\n",
       "      <td>Ignorado</td>\n",
       "    </tr>\n",
       "    <tr>\n",
       "      <th>2</th>\n",
       "      <td>2023-02-16</td>\n",
       "      <td>SP</td>\n",
       "      <td>Feminino</td>\n",
       "      <td>18</td>\n",
       "      <td>1.0</td>\n",
       "      <td>Ignorado</td>\n",
       "      <td>Sim</td>\n",
       "      <td>Sim</td>\n",
       "      <td>Ignorado</td>\n",
       "      <td>Ignorado</td>\n",
       "      <td>Ignorado</td>\n",
       "      <td>Cura</td>\n",
       "      <td>SRAG por COVID-19</td>\n",
       "      <td>Ignorado</td>\n",
       "      <td>Ignorado</td>\n",
       "      <td>Ignorado</td>\n",
       "      <td>Ignorado</td>\n",
       "    </tr>\n",
       "    <tr>\n",
       "      <th>3</th>\n",
       "      <td>2023-02-24</td>\n",
       "      <td>SP</td>\n",
       "      <td>Feminino</td>\n",
       "      <td>20</td>\n",
       "      <td>4.0</td>\n",
       "      <td>9</td>\n",
       "      <td>Ignorado</td>\n",
       "      <td>Ignorado</td>\n",
       "      <td>Ignorado</td>\n",
       "      <td>Ignorado</td>\n",
       "      <td>Ignorado</td>\n",
       "      <td>Cura</td>\n",
       "      <td>SRAG por COVID-19</td>\n",
       "      <td>Ignorado</td>\n",
       "      <td>Ignorado</td>\n",
       "      <td>Ignorado</td>\n",
       "      <td>Ignorado</td>\n",
       "    </tr>\n",
       "    <tr>\n",
       "      <th>4</th>\n",
       "      <td>2023-02-27</td>\n",
       "      <td>PR</td>\n",
       "      <td>Masculino</td>\n",
       "      <td>2</td>\n",
       "      <td>4.0</td>\n",
       "      <td>5</td>\n",
       "      <td>Sim</td>\n",
       "      <td>Sim</td>\n",
       "      <td>Ignorado</td>\n",
       "      <td>Não</td>\n",
       "      <td>Ignorado</td>\n",
       "      <td>Cura</td>\n",
       "      <td>SRAG por outro vírus</td>\n",
       "      <td>Ignorado</td>\n",
       "      <td>Ignorado</td>\n",
       "      <td>Ignorado</td>\n",
       "      <td>Ignorado</td>\n",
       "    </tr>\n",
       "  </tbody>\n",
       "</table>\n",
       "</div>"
      ],
      "text/plain": [
       "  DT_NOTIFIC SG_UF_NOT    CS_SEXO  NU_IDADE_N CS_RACA CS_ESCOL_N     FEBRE  \\\n",
       "0 2023-01-21        MG   Feminino          82     1.0          1       Sim   \n",
       "1 2023-02-14        SC  Masculino          76     1.0   Ignorado  Ignorado   \n",
       "2 2023-02-16        SP   Feminino          18     1.0   Ignorado       Sim   \n",
       "3 2023-02-24        SP   Feminino          20     4.0          9  Ignorado   \n",
       "4 2023-02-27        PR  Masculino           2     4.0          5       Sim   \n",
       "\n",
       "      TOSSE    VACINA       UTI SUPORT_VEN EVOLUCAO             CLASSI_FIN  \\\n",
       "0       Sim       Sim       Não   Ignorado     Cura      SRAG por COVID-19   \n",
       "1  Ignorado  Ignorado       Não   Ignorado     Cura  SRAG não especificado   \n",
       "2       Sim  Ignorado  Ignorado   Ignorado     Cura      SRAG por COVID-19   \n",
       "3  Ignorado  Ignorado  Ignorado   Ignorado     Cura      SRAG por COVID-19   \n",
       "4       Sim  Ignorado       Não   Ignorado     Cura   SRAG por outro vírus   \n",
       "\n",
       "  CARDIOPATI  DIABETES OBESIDADE  PUERPERA  \n",
       "0        Não       Sim       Não       Não  \n",
       "1        Sim  Ignorado  Ignorado  Ignorado  \n",
       "2   Ignorado  Ignorado  Ignorado  Ignorado  \n",
       "3   Ignorado  Ignorado  Ignorado  Ignorado  \n",
       "4   Ignorado  Ignorado  Ignorado  Ignorado  "
      ]
     },
     "execution_count": 171,
     "metadata": {},
     "output_type": "execute_result"
    }
   ],
   "source": [
    "df_selecionado.head() # Visão geral do DataFrame reduzido após os tratamentos realizados"
   ]
  },
  {
   "cell_type": "markdown",
   "id": "9b332565",
   "metadata": {},
   "source": [
    "### 1.7. TRATAMENTO DE OUTLIERS OU VALORES INCONSISTENTES\n",
    "\n",
    "A única variável numérica restante após os tratamentos foi a idade. Foi inserido um boxplot com o objetivo de verificar visualmente a presença de outliers no dataset.\n",
    "\n",
    "No entanto, foi observada a presença de valores negativos na variável NU_IDADE_N, o que é logicamente impossível. Por esse motivo, registros com valores inferiores a zero foram removidos.\n",
    "\n",
    "O valor máximo encontrado para a idade foi 123. Embora seja incomum, trata-se de um valor plausível e, portanto, foi mantido na base."
   ]
  },
  {
   "cell_type": "code",
   "execution_count": 172,
   "id": "c494d0ea",
   "metadata": {
    "ExecuteTime": {
     "end_time": "2025-05-14T13:14:39.882209Z",
     "start_time": "2025-05-14T13:14:39.733774Z"
    },
    "scrolled": true
   },
   "outputs": [
    {
     "data": {
      "image/png": "[encoded data removed]",
      "text/plain": [
       "<Figure size 1200x600 with 1 Axes>"
      ]
     },
     "metadata": {},
     "output_type": "display_data"
    }
   ],
   "source": [
    "plt.figure(figsize=(12, 6))\n",
    "sns.boxplot(x=df_selecionado['NU_IDADE_N'])\n",
    "plt.title(\"Distribuição da idade\")\n",
    "plt.xlabel(\"Idade\")\n",
    "plt.show();"
   ]
  },
  {
   "cell_type": "code",
   "execution_count": 173,
   "id": "85a2980f",
   "metadata": {
    "ExecuteTime": {
     "end_time": "2025-05-14T13:14:40.549647Z",
     "start_time": "2025-05-14T13:14:40.414551Z"
    }
   },
   "outputs": [
    {
     "data": {
      "text/plain": [
       "137375      0\n",
       "105881      0\n",
       "85661       0\n",
       "199455      0\n",
       "184895      0\n",
       "         ... \n",
       "84584     113\n",
       "210955    114\n",
       "234710    117\n",
       "203274    121\n",
       "271737    123\n",
       "Name: NU_IDADE_N, Length: 265219, dtype: int64"
      ]
     },
     "execution_count": 173,
     "metadata": {},
     "output_type": "execute_result"
    }
   ],
   "source": [
    "df_selecionado['NU_IDADE_N'].sort_values(ascending=True) # É possível observar que duas linhas possuem valores de idade inferiores a zero. Trata-se, provavelmente, de um erro de digitação, sendo possível que a idade correta corresponda ao módulo desse valor. No entanto, por segurança, esses registros serão removidos da base\n",
    "df_selecionado = df_selecionado[df_selecionado['NU_IDADE_N'] >= 0]\n",
    "df_selecionado['NU_IDADE_N'].sort_values(ascending=True) # Foi constatado que as linhas com valores negativos foram devidamente removidas do dataset"
   ]
  },
  {
   "cell_type": "markdown",
   "id": "e67dc1d4",
   "metadata": {},
   "source": [
    "## 2. ANÁLISE DESCRITIVA INICIAL"
   ]
  },
  {
   "cell_type": "markdown",
   "id": "ef22159f",
   "metadata": {},
   "source": [
    "### 2.1. DISTRIBUIÇÃO DE CASOS POR EVOLUÇÃO"
   ]
  },
  {
   "cell_type": "code",
   "execution_count": 174,
   "id": "7338d7ed",
   "metadata": {
    "ExecuteTime": {
     "end_time": "2025-05-14T13:14:42.969005Z",
     "start_time": "2025-05-14T13:14:42.917297Z"
    }
   },
   "outputs": [],
   "source": [
    "df2 = df_selecionado.copy()"
   ]
  },
  {
   "cell_type": "code",
   "execution_count": 197,
   "id": "173c3062",
   "metadata": {
    "ExecuteTime": {
     "end_time": "2025-05-14T14:18:38.315158Z",
     "start_time": "2025-05-14T14:18:37.999021Z"
    }
   },
   "outputs": [
    {
     "data": {
      "image/png": "[encoded data removed]",
      "text/plain": [
       "<Figure size 1200x600 with 1 Axes>"
      ]
     },
     "metadata": {},
     "output_type": "display_data"
    },
    {
     "data": {
      "text/markdown": [
       "É possível observar que a quantidade de pacientes curados é significativamente maior do que os demais casos de evolução.\n",
       "\n",
       "O que já nos mostra que a nossa variável alvo, óbito e não óbito (aqui atribuída como 'Cura'), está desbalanceada."
      ],
      "text/plain": [
       "<IPython.core.display.Markdown object>"
      ]
     },
     "metadata": {},
     "output_type": "display_data"
    }
   ],
   "source": [
    "evolucao_counts = df2['EVOLUCAO'].value_counts() # Contador dos quatro possíveis casos de evolução\n",
    "\n",
    "plt.figure(figsize=(12, 6))\n",
    "sns.barplot(x=evolucao_counts.index, y=evolucao_counts.values, palette='Set2')\n",
    "plt.title('Distribuição de Casos por Evolução')\n",
    "plt.ylabel('Número de Casos')\n",
    "plt.xlabel('Evolução')\n",
    "plt.tight_layout()\n",
    "plt.show()\n",
    "\n",
    "display(Markdown(\"É possível observar que a quantidade de pacientes curados é significativamente maior do que os demais casos de evolução.\\n\\nO que já nos mostra que a nossa variável alvo, óbito e não óbito (aqui atribuída como 'Cura'), está desbalanceada.\"))"
   ]
  },
  {
   "cell_type": "markdown",
   "id": "e9244b13",
   "metadata": {},
   "source": [
    "### 2.2. ÓBITOS POR FAIXA ETÁRIA"
   ]
  },
  {
   "cell_type": "code",
   "execution_count": 176,
   "id": "79d39cf7",
   "metadata": {
    "ExecuteTime": {
     "end_time": "2025-05-14T13:14:44.933293Z",
     "start_time": "2025-05-14T13:14:44.641011Z"
    }
   },
   "outputs": [
    {
     "data": {
      "image/png": "[encoded data removed]",
      "text/plain": [
       "<Figure size 1200x600 with 1 Axes>"
      ]
     },
     "metadata": {},
     "output_type": "display_data"
    },
    {
     "data": {
      "text/markdown": [
       "Constação de algo que já era esperado: Quanto maior a idade, maiores são as chances de falecer por SRAG.\n",
       "\n",
       "É importante destacar que a redução nos casos na faixa etária de 90 anos ou mais não indica maior resistência à SRAG, mas sim reflete o fato de que poucas pessoas conseguem atingir idades tão avançadas."
      ],
      "text/plain": [
       "<IPython.core.display.Markdown object>"
      ]
     },
     "metadata": {},
     "output_type": "display_data"
    }
   ],
   "source": [
    "bins = [0, 18, 30, 45, 60, 75, 90, 120]\n",
    "labels = ['0-17', '18-29', '30-44', '45-59', '60-74', '75-89', '90+']\n",
    "df2['FAIXA_ETARIA'] = pd.cut(df2['NU_IDADE_N'], bins=bins, labels=labels)\n",
    "\n",
    "faixa_obitos = df2[df2['EVOLUCAO'] == 'Óbito']['FAIXA_ETARIA'].value_counts().sort_index()\n",
    "\n",
    "plt.figure(figsize=(12, 6))\n",
    "sns.barplot(x=faixa_obitos.index, y=faixa_obitos.values, palette='Reds')\n",
    "plt.title('Óbitos por Faixa Etária')\n",
    "plt.ylabel('Número de Óbitos')\n",
    "plt.xlabel('Faixa Etária')\n",
    "plt.tight_layout()\n",
    "plt.show()\n",
    "\n",
    "display(Markdown(\"Constação de algo que já era esperado: Quanto maior a idade, maiores são as chances de falecer por SRAG.\\n\\nÉ importante destacar que a redução nos casos na faixa etária de 90 anos ou mais não indica maior resistência à SRAG, mas sim reflete o fato de que poucas pessoas conseguem atingir idades tão avançadas.\"))"
   ]
  },
  {
   "cell_type": "markdown",
   "id": "ac8eefda",
   "metadata": {},
   "source": [
    "### 2.3. COMPARATIVO ENTRE VACINADOS E NÃO VACINADOS"
   ]
  },
  {
   "cell_type": "code",
   "execution_count": 177,
   "id": "7641c2e2",
   "metadata": {
    "ExecuteTime": {
     "end_time": "2025-05-14T13:14:46.111454Z",
     "start_time": "2025-05-14T13:14:45.817621Z"
    },
    "scrolled": true
   },
   "outputs": [
    {
     "data": {
      "image/png": "[encoded data removed]",
      "text/plain": [
       "<Figure size 800x400 with 1 Axes>"
      ]
     },
     "metadata": {},
     "output_type": "display_data"
    },
    {
     "data": {
      "text/markdown": [
       "Em um primeiro momento, o resulto esperado seria outro, visto a importância da vacinação contra SRAG.\n",
       "\n",
       "Porém é importante destacar que 125.978 linhas foram preenchidas com 'Ignorado'. O que representa aproximadamente 45% do dataset.\n",
       "\n",
       "Tal fato pode ter influenciado nos resultados apresentados no gráficos 'Sim' e 'Não'."
      ],
      "text/plain": [
       "<IPython.core.display.Markdown object>"
      ]
     },
     "metadata": {},
     "output_type": "display_data"
    }
   ],
   "source": [
    "vacina_evolucao = df2.groupby(['VACINA', 'EVOLUCAO']).size().unstack().fillna(0)\n",
    "\n",
    "vacina_evolucao_pct = vacina_evolucao.div(vacina_evolucao.sum(axis=1), axis=0)\n",
    "\n",
    "vacina_evolucao_pct.plot(kind='bar', stacked=True, colormap='Accent', figsize=(8, 4))\n",
    "plt.title('Evolução dos Casos por Status de Vacinação', fontsize=10)\n",
    "plt.ylabel('Proporção')\n",
    "plt.xlabel('Vacina')\n",
    "plt.legend(title='Evolução', loc='center left', bbox_to_anchor=(1, 0.5), fontsize=8)\n",
    "plt.tight_layout()\n",
    "plt.show()\n",
    "\n",
    "\n",
    "\n",
    "display(Markdown(\"Em um primeiro momento, o resulto esperado seria outro, visto a importância da vacinação contra SRAG.\\n\\nPorém é importante destacar que 125.978 linhas foram preenchidas com 'Ignorado'. O que representa aproximadamente 45% do dataset.\\n\\nTal fato pode ter influenciado nos resultados apresentados no gráficos 'Sim' e 'Não'.\"))"
   ]
  },
  {
   "cell_type": "markdown",
   "id": "729b9d9b",
   "metadata": {},
   "source": [
    "#### 2.3.1. COMPARATIVO DE ÓBITO ENTRE VACINADOS E NÃO VACINADOS\n",
    "\n",
    "Como o gráfico do item 2.3 não se mostrou satisfatório para interpretação, é ideal que a análise seja feita observando os óbitos para vacinaos e não vacinados. Dessa forma teremos um parâmetro melhor de comparação."
   ]
  },
  {
   "cell_type": "code",
   "execution_count": 178,
   "id": "b860fd3b",
   "metadata": {
    "ExecuteTime": {
     "end_time": "2025-05-14T13:14:47.284336Z",
     "start_time": "2025-05-14T13:14:46.821256Z"
    }
   },
   "outputs": [
    {
     "data": {
      "image/png": "[encoded data removed]",
      "text/plain": [
       "<Figure size 1200x500 with 2 Axes>"
      ]
     },
     "metadata": {},
     "output_type": "display_data"
    },
    {
     "data": {
      "text/markdown": [
       "Considerando apenas os casos em que foi possível identificar se a vacina foi ou não aplicada, ou seja, excluindo os registros com o valor 'Ignorado', observa-se que o número de óbitos entre pessoas não vacinadas é superior ao número entre vacinados.\n",
       "\n",
       "Em relação aos óbitos por SRAG, a proporção de mortes entre os não vacinados é aproximadamente 2 vezes maior do que entre os vacinados. Enquanto para óbitos incluindo outras causas é de aproximadamente 2.5 vezes."
      ],
      "text/plain": [
       "<IPython.core.display.Markdown object>"
      ]
     },
     "metadata": {},
     "output_type": "display_data"
    }
   ],
   "source": [
    "obitos = df2[(df2['EVOLUCAO'].isin(['Óbito', 'Óbito por outras causas'])) &(df2['VACINA'] != 'Ignorado')] # Filtrando apenas para evoluções que terminaram em óbito, incluindo óbitos por outras causas\n",
    "obitos_2 = df2[(df2['EVOLUCAO'] == 'Óbito') & (df2['VACINA'] != 'Ignorado')] # Excluindo óbitos por outras causas\n",
    "\n",
    "obitos_por_vacina = obitos['VACINA'].value_counts().sort_index() # Conta quantos óbitos houve para cada status de vacinação\n",
    "obitos_por_vacina_2 = obitos_2['VACINA'].value_counts().sort_index() # Excluindo óbitos por outras causas\n",
    "\n",
    "fig, axes = plt.subplots(1, 2, figsize=(12, 5)) # Criando a figura com 2 subplots lado a lado\n",
    "\n",
    "obitos_por_vacina.plot(kind='bar', color='crimson', ax=axes[0])\n",
    "axes[0].set_title('Óbitos (incluindo outras causas)')\n",
    "axes[0].set_xlabel('Vacina')\n",
    "axes[0].set_ylabel('Quantidade de Óbitos')\n",
    "axes[0].tick_params(axis='x', rotation=0)\n",
    "\n",
    "# Gráfico 2: só óbitos principais\n",
    "obitos_por_vacina_2.plot(kind='bar', color='crimson', ax=axes[1])\n",
    "axes[1].set_title('Apenas Óbitos por SRAG')\n",
    "axes[1].set_xlabel('Vacina')\n",
    "axes[1].set_ylabel('Quantidade de Óbitos')\n",
    "axes[1].tick_params(axis='x', rotation=0)\n",
    "\n",
    "plt.tight_layout()\n",
    "plt.show()\n",
    "\n",
    "display(Markdown(\"Considerando apenas os casos em que foi possível identificar se a vacina foi ou não aplicada, ou seja, excluindo os registros com o valor 'Ignorado', observa-se que o número de óbitos entre pessoas não vacinadas é superior ao número entre vacinados.\\n\\nEm relação aos óbitos por SRAG, a proporção de mortes entre os não vacinados é aproximadamente 2 vezes maior do que entre os vacinados. Enquanto para óbitos incluindo outras causas é de aproximadamente 2.5 vezes.\"))"
   ]
  },
  {
   "cell_type": "markdown",
   "id": "c38d8b9c",
   "metadata": {},
   "source": [
    "### 2.4. ÓBITOS POR CORMOMIDADE"
   ]
  },
  {
   "cell_type": "code",
   "execution_count": 179,
   "id": "3cc2a254",
   "metadata": {
    "ExecuteTime": {
     "end_time": "2025-05-14T13:14:48.825237Z",
     "start_time": "2025-05-14T13:14:47.969655Z"
    }
   },
   "outputs": [
    {
     "data": {
      "image/png": "[encoded data removed]",
      "text/plain": [
       "<Figure size 1200x800 with 4 Axes>"
      ]
     },
     "metadata": {},
     "output_type": "display_data"
    },
    {
     "data": {
      "text/markdown": [
       "Como foi amplamente divulgado na imprensa, pessoas pertencentes a grupos de risco têm maior probabilidade de óbito em decorrência da SRAG.\n",
       "\n",
       "É possível observar que, com exceção de mulheres em puerpério, em todos os outros casos é constatado que pessoas com comorbidade tem uma proporção maior de óbito que pessoas sem comormidade."
      ],
      "text/plain": [
       "<IPython.core.display.Markdown object>"
      ]
     },
     "metadata": {},
     "output_type": "display_data"
    }
   ],
   "source": [
    "comorbidades = ['DIABETES', 'CARDIOPATI', 'OBESIDADE', 'PUERPERA']\n",
    "\n",
    "fig, axs = plt.subplots(2, 2, figsize=(12, 8))\n",
    "axs = axs.flatten()\n",
    "\n",
    "for i, comorb in enumerate(comorbidades):\n",
    "    dados = df2.groupby([comorb, 'EVOLUCAO']).size().unstack().fillna(0)\n",
    "    dados_pct = dados.div(dados.sum(axis=1), axis=0)\n",
    "\n",
    "    dados_pct.plot(\n",
    "        kind='bar',\n",
    "        stacked=True,\n",
    "        ax=axs[i],\n",
    "        title=f'Evolução por {comorb}',\n",
    "        legend=False\n",
    "    )\n",
    "    axs[i].set_ylabel('Proporção')\n",
    "    axs[i].set_xlabel(comorb)\n",
    "\n",
    "handles, labels = axs[0].get_legend_handles_labels()\n",
    "fig.legend(handles, labels, title='Evolução', loc='upper center', ncol=len(labels), bbox_to_anchor=(0.5, 1.05))\n",
    "\n",
    "plt.tight_layout()\n",
    "plt.subplots_adjust(top=0.9)\n",
    "plt.show()\n",
    "\n",
    "display(Markdown(\"Como foi amplamente divulgado na imprensa, pessoas pertencentes a grupos de risco têm maior probabilidade de óbito em decorrência da SRAG.\\n\\nÉ possível observar que, com exceção de mulheres em puerpério, em todos os outros casos é constatado que pessoas com comorbidade tem uma proporção maior de óbito que pessoas sem comormidade.\"))"
   ]
  },
  {
   "cell_type": "markdown",
   "id": "b8dcd896",
   "metadata": {},
   "source": [
    "### 2.5. CASOS DE SRAG AO LONGO DO ANO"
   ]
  },
  {
   "cell_type": "code",
   "execution_count": 180,
   "id": "0887d905",
   "metadata": {
    "ExecuteTime": {
     "end_time": "2025-05-14T13:14:50.135119Z",
     "start_time": "2025-05-14T13:14:49.683511Z"
    },
    "code_folding": []
   },
   "outputs": [
    {
     "data": {
      "image/png": "[encoded data removed]",
      "text/plain": [
       "<Figure size 1000x500 with 1 Axes>"
      ]
     },
     "metadata": {},
     "output_type": "display_data"
    },
    {
     "data": {
      "text/markdown": [
       "É possível destacar que, ao longo de 2023, os meses com maior número de registros de casos de SRAG foram, respectivamente: maio, fevereiro e junho.\n",
       "\n",
       "Maio e junho são meses mais frios em grande parte do país. A população começa a enfrentar temperaturas mais baixas, o que pode favorecer o aumento de casos, uma vez que infecções respiratórias tendem a ser mais comuns nesse período.\n",
       "\n",
       "Em relação a março de 2023, o aumento nos casos de SRAG pode estar associado ao Carnaval, celebrado na última semana de fevereiro. Como as SRAGs são altamente contagiosas, as aglomerações características da festa podem ter contribuído significativamente para a disseminação da doença."
      ],
      "text/plain": [
       "<IPython.core.display.Markdown object>"
      ]
     },
     "metadata": {},
     "output_type": "display_data"
    }
   ],
   "source": [
    "# Filtrar apenas 2023\n",
    "df_2023 = df2[df2['DT_NOTIFIC'].dt.year == 2023]\n",
    "\n",
    "# Agrupar por mês\n",
    "casos_por_mes = df_2023['DT_NOTIFIC'].dt.to_period('M').value_counts().sort_index()\n",
    "\n",
    "casos_por_mes.index = casos_por_mes.index.strftime('%m-%Y')\n",
    "\n",
    "plt.figure(figsize=(10, 5))\n",
    "casos_por_mes.plot(kind='bar')\n",
    "plt.title('Casos de SRAG ao longo do ano (2023)')\n",
    "plt.ylabel('Número de Casos')\n",
    "plt.xlabel('Mês')\n",
    "plt.xticks(rotation=45)\n",
    "plt.tight_layout()\n",
    "plt.show()\n",
    "\n",
    "display(Markdown(\"É possível destacar que, ao longo de 2023, os meses com maior número de registros de casos de SRAG foram, respectivamente: maio, fevereiro e junho.\\n\\nMaio e junho são meses mais frios em grande parte do país. A população começa a enfrentar temperaturas mais baixas, o que pode favorecer o aumento de casos, uma vez que infecções respiratórias tendem a ser mais comuns nesse período.\\n\\nEm relação a março de 2023, o aumento nos casos de SRAG pode estar associado ao Carnaval, celebrado na última semana de fevereiro. Como as SRAGs são altamente contagiosas, as aglomerações características da festa podem ter contribuído significativamente para a disseminação da doença.\"))"
   ]
  },
  {
   "cell_type": "markdown",
   "id": "6a45de82",
   "metadata": {},
   "source": [
    "### 2.6. CASOS DE SRAG POR ESTADO (UF) E DISTRITO FEDERAL (DF)"
   ]
  },
  {
   "cell_type": "code",
   "execution_count": 181,
   "id": "8bd822d5",
   "metadata": {
    "ExecuteTime": {
     "end_time": "2025-05-14T13:14:51.249716Z",
     "start_time": "2025-05-14T13:14:50.918182Z"
    }
   },
   "outputs": [
    {
     "data": {
      "image/png": "[encoded data removed]",
      "text/plain": [
       "<Figure size 1000x500 with 1 Axes>"
      ]
     },
     "metadata": {},
     "output_type": "display_data"
    },
    {
     "data": {
      "text/markdown": [
       "Os estados mais populosos do Brasil são: São Paulo, Minas Gerais e Rio de Janeiro. A presença desses três estados entre os que registraram maior número de casos pode estar associada às suas grandes populações.\n",
       "\n",
       "O estado do Paraná é o 5º mais populoso do país, seguido pelo Rio Grande do Sul. Além disso, ambos costumam registrar temperaturas mais baixas durante os períodos frios do ano, o que também pode contribuir para o aumento no número de casos."
      ],
      "text/plain": [
       "<IPython.core.display.Markdown object>"
      ]
     },
     "metadata": {},
     "output_type": "display_data"
    }
   ],
   "source": [
    "casos_por_uf = df2['SG_UF_NOT'].value_counts().sort_values(ascending=False)\n",
    "\n",
    "plt.figure(figsize=(10, 5))\n",
    "casos_por_uf.plot(kind='bar')\n",
    "plt.title('Casos de SRAG por Estado (UF)')\n",
    "plt.ylabel('Número de Casos')\n",
    "plt.xlabel('Estado')\n",
    "plt.xticks(rotation=45)\n",
    "plt.tight_layout()\n",
    "plt.show()\n",
    "\n",
    "display(Markdown(\"Os estados mais populosos do Brasil são: São Paulo, Minas Gerais e Rio de Janeiro. A presença desses três estados entre os que registraram maior número de casos pode estar associada às suas grandes populações.\\n\\nO estado do Paraná é o 5º mais populoso do país, seguido pelo Rio Grande do Sul. Além disso, ambos costumam registrar temperaturas mais baixas durante os períodos frios do ano, o que também pode contribuir para o aumento no número de casos.\"))"
   ]
  },
  {
   "cell_type": "markdown",
   "id": "f4621cb4",
   "metadata": {},
   "source": [
    "## 3. MODELOS DE MACHINE LEARNING"
   ]
  },
  {
   "cell_type": "markdown",
   "id": "7b5a3be9",
   "metadata": {},
   "source": [
    "### 3.1. FILTRAGEM DA VARIÁVEL ALVO"
   ]
  },
  {
   "cell_type": "code",
   "execution_count": 182,
   "id": "94769565",
   "metadata": {
    "ExecuteTime": {
     "end_time": "2025-05-14T13:14:53.325454Z",
     "start_time": "2025-05-14T13:14:53.246691Z"
    }
   },
   "outputs": [
    {
     "data": {
      "text/plain": [
       "array(['Cura', 'Óbito', 'Óbito por outras causas'], dtype=object)"
      ]
     },
     "execution_count": 182,
     "metadata": {},
     "output_type": "execute_result"
    }
   ],
   "source": [
    "df3 = df2[df2['EVOLUCAO'].isin(['Cura', 'Óbito', 'Óbito por outras causas'])] # Exclusão de linhas que tenham como evolução 'Ignorado'\n",
    "df3['EVOLUCAO'].unique() # Verificar se os únicos valores dentro da coluna 'EVOLUCAO' são 'Cura', 'Óbito', 'Óbito por outras causas'"
   ]
  },
  {
   "cell_type": "markdown",
   "id": "ef7e9c9b",
   "metadata": {},
   "source": [
    "### 3.2. CRIAÇÃO E SEPARAÇÃO DO TARGET"
   ]
  },
  {
   "cell_type": "code",
   "execution_count": 183,
   "id": "67fb50bd",
   "metadata": {
    "ExecuteTime": {
     "end_time": "2025-05-14T13:15:03.770384Z",
     "start_time": "2025-05-14T13:15:03.663211Z"
    }
   },
   "outputs": [
    {
     "data": {
      "text/plain": [
       "0    225920\n",
       "1     33271\n",
       "Name: OBITO, dtype: int64"
      ]
     },
     "execution_count": 183,
     "metadata": {},
     "output_type": "execute_result"
    }
   ],
   "source": [
    "df3['OBITO'] = df3['EVOLUCAO'].apply(lambda x: 1 if x == 'Óbito' or x == 'Óbito por outras causas' else 0) # Atribuição de um rótulo para a variável alvo\n",
    "df3['OBITO'].value_counts() # Trata-se de um dataset desbalanceado, isso será manipulado mais a frete"
   ]
  },
  {
   "cell_type": "code",
   "execution_count": 184,
   "id": "2c013d4a",
   "metadata": {
    "ExecuteTime": {
     "end_time": "2025-05-14T13:15:07.027084Z",
     "start_time": "2025-05-14T13:15:07.004328Z"
    }
   },
   "outputs": [
    {
     "data": {
      "text/html": [
       "<div>\n",
       "<style scoped>\n",
       "    .dataframe tbody tr th:only-of-type {\n",
       "        vertical-align: middle;\n",
       "    }\n",
       "\n",
       "    .dataframe tbody tr th {\n",
       "        vertical-align: top;\n",
       "    }\n",
       "\n",
       "    .dataframe thead th {\n",
       "        text-align: right;\n",
       "    }\n",
       "</style>\n",
       "<table border=\"1\" class=\"dataframe\">\n",
       "  <thead>\n",
       "    <tr style=\"text-align: right;\">\n",
       "      <th></th>\n",
       "      <th>DT_NOTIFIC</th>\n",
       "      <th>SG_UF_NOT</th>\n",
       "      <th>CS_SEXO</th>\n",
       "      <th>NU_IDADE_N</th>\n",
       "      <th>CS_RACA</th>\n",
       "      <th>CS_ESCOL_N</th>\n",
       "      <th>FEBRE</th>\n",
       "      <th>TOSSE</th>\n",
       "      <th>VACINA</th>\n",
       "      <th>UTI</th>\n",
       "      <th>SUPORT_VEN</th>\n",
       "      <th>EVOLUCAO</th>\n",
       "      <th>CLASSI_FIN</th>\n",
       "      <th>CARDIOPATI</th>\n",
       "      <th>DIABETES</th>\n",
       "      <th>OBESIDADE</th>\n",
       "      <th>PUERPERA</th>\n",
       "      <th>FAIXA_ETARIA</th>\n",
       "      <th>OBITO</th>\n",
       "    </tr>\n",
       "  </thead>\n",
       "  <tbody>\n",
       "    <tr>\n",
       "      <th>0</th>\n",
       "      <td>2023-01-21</td>\n",
       "      <td>MG</td>\n",
       "      <td>Feminino</td>\n",
       "      <td>82</td>\n",
       "      <td>1.0</td>\n",
       "      <td>1</td>\n",
       "      <td>Sim</td>\n",
       "      <td>Sim</td>\n",
       "      <td>Sim</td>\n",
       "      <td>Não</td>\n",
       "      <td>Ignorado</td>\n",
       "      <td>Cura</td>\n",
       "      <td>SRAG por COVID-19</td>\n",
       "      <td>Não</td>\n",
       "      <td>Sim</td>\n",
       "      <td>Não</td>\n",
       "      <td>Não</td>\n",
       "      <td>75-89</td>\n",
       "      <td>0</td>\n",
       "    </tr>\n",
       "    <tr>\n",
       "      <th>1</th>\n",
       "      <td>2023-02-14</td>\n",
       "      <td>SC</td>\n",
       "      <td>Masculino</td>\n",
       "      <td>76</td>\n",
       "      <td>1.0</td>\n",
       "      <td>Ignorado</td>\n",
       "      <td>Ignorado</td>\n",
       "      <td>Ignorado</td>\n",
       "      <td>Ignorado</td>\n",
       "      <td>Não</td>\n",
       "      <td>Ignorado</td>\n",
       "      <td>Cura</td>\n",
       "      <td>SRAG não especificado</td>\n",
       "      <td>Sim</td>\n",
       "      <td>Ignorado</td>\n",
       "      <td>Ignorado</td>\n",
       "      <td>Ignorado</td>\n",
       "      <td>75-89</td>\n",
       "      <td>0</td>\n",
       "    </tr>\n",
       "    <tr>\n",
       "      <th>2</th>\n",
       "      <td>2023-02-16</td>\n",
       "      <td>SP</td>\n",
       "      <td>Feminino</td>\n",
       "      <td>18</td>\n",
       "      <td>1.0</td>\n",
       "      <td>Ignorado</td>\n",
       "      <td>Sim</td>\n",
       "      <td>Sim</td>\n",
       "      <td>Ignorado</td>\n",
       "      <td>Ignorado</td>\n",
       "      <td>Ignorado</td>\n",
       "      <td>Cura</td>\n",
       "      <td>SRAG por COVID-19</td>\n",
       "      <td>Ignorado</td>\n",
       "      <td>Ignorado</td>\n",
       "      <td>Ignorado</td>\n",
       "      <td>Ignorado</td>\n",
       "      <td>0-17</td>\n",
       "      <td>0</td>\n",
       "    </tr>\n",
       "    <tr>\n",
       "      <th>3</th>\n",
       "      <td>2023-02-24</td>\n",
       "      <td>SP</td>\n",
       "      <td>Feminino</td>\n",
       "      <td>20</td>\n",
       "      <td>4.0</td>\n",
       "      <td>9</td>\n",
       "      <td>Ignorado</td>\n",
       "      <td>Ignorado</td>\n",
       "      <td>Ignorado</td>\n",
       "      <td>Ignorado</td>\n",
       "      <td>Ignorado</td>\n",
       "      <td>Cura</td>\n",
       "      <td>SRAG por COVID-19</td>\n",
       "      <td>Ignorado</td>\n",
       "      <td>Ignorado</td>\n",
       "      <td>Ignorado</td>\n",
       "      <td>Ignorado</td>\n",
       "      <td>18-29</td>\n",
       "      <td>0</td>\n",
       "    </tr>\n",
       "    <tr>\n",
       "      <th>4</th>\n",
       "      <td>2023-02-27</td>\n",
       "      <td>PR</td>\n",
       "      <td>Masculino</td>\n",
       "      <td>2</td>\n",
       "      <td>4.0</td>\n",
       "      <td>5</td>\n",
       "      <td>Sim</td>\n",
       "      <td>Sim</td>\n",
       "      <td>Ignorado</td>\n",
       "      <td>Não</td>\n",
       "      <td>Ignorado</td>\n",
       "      <td>Cura</td>\n",
       "      <td>SRAG por outro vírus</td>\n",
       "      <td>Ignorado</td>\n",
       "      <td>Ignorado</td>\n",
       "      <td>Ignorado</td>\n",
       "      <td>Ignorado</td>\n",
       "      <td>0-17</td>\n",
       "      <td>0</td>\n",
       "    </tr>\n",
       "  </tbody>\n",
       "</table>\n",
       "</div>"
      ],
      "text/plain": [
       "  DT_NOTIFIC SG_UF_NOT    CS_SEXO  NU_IDADE_N CS_RACA CS_ESCOL_N     FEBRE  \\\n",
       "0 2023-01-21        MG   Feminino          82     1.0          1       Sim   \n",
       "1 2023-02-14        SC  Masculino          76     1.0   Ignorado  Ignorado   \n",
       "2 2023-02-16        SP   Feminino          18     1.0   Ignorado       Sim   \n",
       "3 2023-02-24        SP   Feminino          20     4.0          9  Ignorado   \n",
       "4 2023-02-27        PR  Masculino           2     4.0          5       Sim   \n",
       "\n",
       "      TOSSE    VACINA       UTI SUPORT_VEN EVOLUCAO             CLASSI_FIN  \\\n",
       "0       Sim       Sim       Não   Ignorado     Cura      SRAG por COVID-19   \n",
       "1  Ignorado  Ignorado       Não   Ignorado     Cura  SRAG não especificado   \n",
       "2       Sim  Ignorado  Ignorado   Ignorado     Cura      SRAG por COVID-19   \n",
       "3  Ignorado  Ignorado  Ignorado   Ignorado     Cura      SRAG por COVID-19   \n",
       "4       Sim  Ignorado       Não   Ignorado     Cura   SRAG por outro vírus   \n",
       "\n",
       "  CARDIOPATI  DIABETES OBESIDADE  PUERPERA FAIXA_ETARIA  OBITO  \n",
       "0        Não       Sim       Não       Não        75-89      0  \n",
       "1        Sim  Ignorado  Ignorado  Ignorado        75-89      0  \n",
       "2   Ignorado  Ignorado  Ignorado  Ignorado         0-17      0  \n",
       "3   Ignorado  Ignorado  Ignorado  Ignorado        18-29      0  \n",
       "4   Ignorado  Ignorado  Ignorado  Ignorado         0-17      0  "
      ]
     },
     "execution_count": 184,
     "metadata": {},
     "output_type": "execute_result"
    }
   ],
   "source": [
    "df3.head() # Verificar como o dataset ficou após as alterações realizadas e se a última coluna foi preenchida"
   ]
  },
  {
   "cell_type": "code",
   "execution_count": 185,
   "id": "2bbc028d",
   "metadata": {
    "ExecuteTime": {
     "end_time": "2025-05-14T13:15:07.893447Z",
     "start_time": "2025-05-14T13:15:07.869634Z"
    },
    "scrolled": true
   },
   "outputs": [
    {
     "data": {
      "text/plain": [
       "Index(['DT_NOTIFIC', 'SG_UF_NOT', 'CS_SEXO', 'NU_IDADE_N', 'CS_RACA',\n",
       "       'CS_ESCOL_N', 'FEBRE', 'TOSSE', 'VACINA', 'UTI', 'SUPORT_VEN',\n",
       "       'EVOLUCAO', 'CLASSI_FIN', 'CARDIOPATI', 'DIABETES', 'OBESIDADE',\n",
       "       'PUERPERA', 'FAIXA_ETARIA', 'OBITO'],\n",
       "      dtype='object')"
      ]
     },
     "execution_count": 185,
     "metadata": {},
     "output_type": "execute_result"
    }
   ],
   "source": [
    "df3.columns # Verificar quais colunas permaneceram no dataset para, se necessário, remover aquelas que não serão utilizadas"
   ]
  },
  {
   "cell_type": "code",
   "execution_count": 186,
   "id": "7e154e44",
   "metadata": {
    "ExecuteTime": {
     "end_time": "2025-05-14T13:15:09.201103Z",
     "start_time": "2025-05-14T13:15:09.061030Z"
    }
   },
   "outputs": [],
   "source": [
    "# Separação entre os dados de entrada (X) e saída (y)\n",
    "X = df3.drop(columns=['FAIXA_ETARIA', 'OBITO', 'EVOLUCAO', 'CLASSI_FIN']) # Após o modelo rodar, foi observado que algumas colunas forneciam a resposta que o modelo precisava prever, causando overfitting devido ao data leakage. Por isso foram removidas juntamente com o target \n",
    "y = df3['OBITO'] # Separação do target do restante do dataset"
   ]
  },
  {
   "cell_type": "code",
   "execution_count": 187,
   "id": "fa10be04",
   "metadata": {
    "ExecuteTime": {
     "end_time": "2025-05-14T13:15:11.908810Z",
     "start_time": "2025-05-14T13:15:11.640142Z"
    }
   },
   "outputs": [],
   "source": [
    "X_sample = X.sample(n=200000, random_state=42) # Utilizei uma amostra pois o computador que utilizei apresentou dificuldade para rodar todo o dataset\n",
    "y_sample = y.loc[X_sample.index]"
   ]
  },
  {
   "cell_type": "markdown",
   "id": "ff0c36ea",
   "metadata": {},
   "source": [
    "### 3.3. ETAPA DE PRÉ-PROCESSAMENTO"
   ]
  },
  {
   "cell_type": "markdown",
   "id": "5d3dc896",
   "metadata": {},
   "source": [
    "#### 3.3.1. IDENTIFICAÇÃO DOS TIPOS DE DADOS"
   ]
  },
  {
   "cell_type": "code",
   "execution_count": 188,
   "id": "8b204bae",
   "metadata": {
    "ExecuteTime": {
     "end_time": "2025-05-14T13:15:19.083218Z",
     "start_time": "2025-05-14T13:15:18.635492Z"
    },
    "scrolled": true
   },
   "outputs": [],
   "source": [
    "# Identificação dos tipos de dados para realização de enconder (categóricas) e padronização (numéricos)\n",
    "\n",
    "num_cols = ['NU_IDADE_N'] # única variável numérica presente no dataset reduzido\n",
    "cat_cols = [col for col in X.columns if col not in num_cols] # gera uma lista com as variáveis categóricas\n",
    "\n",
    "for col in cat_cols:\n",
    "    X_sample[col] = X_sample[col].astype(str) # tive um erro mais a frente, então dessa forma forço tudo que é variável categórica a ser string, evitando assim o erro do encoder"
   ]
  },
  {
   "cell_type": "markdown",
   "id": "aa40c0d3",
   "metadata": {},
   "source": [
    "#### 3.3.2. DEFINICAÇÃO DO PIPELINE"
   ]
  },
  {
   "cell_type": "code",
   "execution_count": 189,
   "id": "1efc1fe9",
   "metadata": {
    "ExecuteTime": {
     "end_time": "2025-05-14T13:15:21.768535Z",
     "start_time": "2025-05-14T13:15:21.736163Z"
    }
   },
   "outputs": [],
   "source": [
    "num_pipeline = Pipeline([('imputer', SimpleImputer(strategy='median')),\n",
    "                         ('scaler', StandardScaler())])\n",
    "\n",
    "# O SimpleImputer serve para imputar a mediana em dados faltantes\n",
    "# O StandardScaler é quem realiza a padronização dos dados, os deixando em uma mesma escala, auxiliando o modelo a funcionar melhor\n",
    "\n",
    "cat_pipeline = Pipeline([('imputer', SimpleImputer(strategy='most_frequent')),\n",
    "                         ('encoder', OneHotEncoder(handle_unknown='ignore', sparse=False))])\n",
    "\n",
    "# O SimpleImputer em variáveis categóricas funciona de forma diferente, imputando a categoria que mais aparece nos dados faltantes\n",
    "# O OneHotEncoder transforma palavras em números binários, criando uma nova coluna para cada categoria\n",
    "\n",
    "preprocessor = ColumnTransformer([('num', num_pipeline, num_cols), \n",
    "                                  ('cat', cat_pipeline, cat_cols)])\n",
    "\n",
    "\n",
    "# Durante a execução dos modelos, o LightGBM apresentou incompatibilidade com o OneHotEncoder. Por esse motivo, foi necessário desenvolver um pipeline de pré-processamento específico para esse modelo\n",
    "\n",
    "cat_ordinal_pipeline = Pipeline([('imputer', SimpleImputer(strategy='most_frequent')),\n",
    "                                 ('encoder', OrdinalEncoder(handle_unknown='use_encoded_value', unknown_value=-1))])\n",
    "\n",
    "preprocessor_lgbm = ColumnTransformer([('num', num_pipeline, num_cols),\n",
    "                                       ('cat', cat_ordinal_pipeline, cat_cols)])"
   ]
  },
  {
   "cell_type": "markdown",
   "id": "b851b876",
   "metadata": {},
   "source": [
    "#### 3.3.3. DEFINIÇÃO DOS MODELOS DE MACHINE LEARNING\n",
    "\n",
    "Por ser tratar de um problema de classificação, foram selecionador quatro modelos que funcionam bem nesse contexto:\n",
    "1. Logistic Regression\n",
    "2. Random Forest\n",
    "3. XGBoost\n",
    "4. LightGBM"
   ]
  },
  {
   "cell_type": "code",
   "execution_count": 190,
   "id": "3441396b",
   "metadata": {
    "ExecuteTime": {
     "end_time": "2025-05-14T13:16:33.582365Z",
     "start_time": "2025-05-14T13:16:33.385319Z"
    }
   },
   "outputs": [],
   "source": [
    "modelos = {'Logistic Regression': LogisticRegression(max_iter=1000, class_weight='balanced'),\n",
    "           'Random Forest': RandomForestClassifier(n_estimators=100, random_state=42, class_weight='balanced'),\n",
    "           'XGBoost': XGBClassifier(use_label_encoder=False, eval_metric='logloss', scale_pos_weight=6.79, random_state=42),\n",
    "           'LightGBM': LGBMClassifier(random_state=42, scale_pos_weight=6.79, verbose=-1)} #scale_pos_weight vem da divisão entre não óbitos/óbitos"
   ]
  },
  {
   "cell_type": "markdown",
   "id": "72787c11",
   "metadata": {},
   "source": [
    "#### 3.3.4. VALIDAÇÃO CRUZADA (CROSS-VALIDATION)"
   ]
  },
  {
   "cell_type": "code",
   "execution_count": 191,
   "id": "d2509415",
   "metadata": {
    "ExecuteTime": {
     "end_time": "2025-05-14T13:37:20.162430Z",
     "start_time": "2025-05-14T13:16:38.822209Z"
    },
    "scrolled": false
   },
   "outputs": [
    {
     "name": "stdout",
     "output_type": "stream",
     "text": [
      "\n",
      "Avaliando: Logistic Regression\n"
     ]
    },
    {
     "name": "stderr",
     "output_type": "stream",
     "text": [
      "Validando Logistic Regression: 100%|█████████████████████████████████████████████████████| 5/5 [04:48<00:00, 57.77s/it]\n"
     ]
    },
    {
     "name": "stdout",
     "output_type": "stream",
     "text": [
      "\n",
      "Avaliando: Random Forest\n"
     ]
    },
    {
     "name": "stderr",
     "output_type": "stream",
     "text": [
      "Validando Random Forest: 100%|██████████████████████████████████████████████████████████| 5/5 [15:04<00:00, 180.90s/it]\n"
     ]
    },
    {
     "name": "stdout",
     "output_type": "stream",
     "text": [
      "\n",
      "Avaliando: XGBoost\n"
     ]
    },
    {
     "name": "stderr",
     "output_type": "stream",
     "text": [
      "Validando XGBoost: 100%|█████████████████████████████████████████████████████████████████| 5/5 [00:38<00:00,  7.77s/it]\n"
     ]
    },
    {
     "name": "stdout",
     "output_type": "stream",
     "text": [
      "\n",
      "Avaliando: LightGBM\n"
     ]
    },
    {
     "name": "stderr",
     "output_type": "stream",
     "text": [
      "Validando LightGBM: 100%|████████████████████████████████████████████████████████████████| 5/5 [00:08<00:00,  1.79s/it]\n"
     ]
    },
    {
     "data": {
      "text/markdown": [
       "#### Comparativo de Modelos"
      ],
      "text/plain": [
       "<IPython.core.display.Markdown object>"
      ]
     },
     "metadata": {},
     "output_type": "display_data"
    },
    {
     "data": {
      "text/html": [
       "<div>\n",
       "<style scoped>\n",
       "    .dataframe tbody tr th:only-of-type {\n",
       "        vertical-align: middle;\n",
       "    }\n",
       "\n",
       "    .dataframe tbody tr th {\n",
       "        vertical-align: top;\n",
       "    }\n",
       "\n",
       "    .dataframe thead th {\n",
       "        text-align: right;\n",
       "    }\n",
       "</style>\n",
       "<table border=\"1\" class=\"dataframe\">\n",
       "  <thead>\n",
       "    <tr style=\"text-align: right;\">\n",
       "      <th></th>\n",
       "      <th>Modelo</th>\n",
       "      <th>Acurácia (Accuracy)</th>\n",
       "      <th>Precisão (Precision)</th>\n",
       "      <th>Revocação (Recall)</th>\n",
       "      <th>F1-Score</th>\n",
       "    </tr>\n",
       "  </thead>\n",
       "  <tbody>\n",
       "    <tr>\n",
       "      <th>0</th>\n",
       "      <td>Logistic Regression</td>\n",
       "      <td>0.7902 +/- 0.0007</td>\n",
       "      <td>0.3624 +/- 0.0008</td>\n",
       "      <td>0.8409 +/- 0.0030</td>\n",
       "      <td>0.5065 +/- 0.0011</td>\n",
       "    </tr>\n",
       "    <tr>\n",
       "      <th>1</th>\n",
       "      <td>Random Forest</td>\n",
       "      <td>0.8988 +/- 0.0009</td>\n",
       "      <td>0.6696 +/- 0.0071</td>\n",
       "      <td>0.4147 +/- 0.0032</td>\n",
       "      <td>0.5122 +/- 0.0038</td>\n",
       "    </tr>\n",
       "    <tr>\n",
       "      <th>2</th>\n",
       "      <td>XGBoost</td>\n",
       "      <td>0.7982 +/- 0.0011</td>\n",
       "      <td>0.3730 +/- 0.0016</td>\n",
       "      <td>0.8453 +/- 0.0022</td>\n",
       "      <td>0.5176 +/- 0.0020</td>\n",
       "    </tr>\n",
       "    <tr>\n",
       "      <th>3</th>\n",
       "      <td>LightGBM</td>\n",
       "      <td>0.7882 +/- 0.0015</td>\n",
       "      <td>0.3630 +/- 0.0016</td>\n",
       "      <td>0.8666 +/- 0.0039</td>\n",
       "      <td>0.5117 +/- 0.0016</td>\n",
       "    </tr>\n",
       "  </tbody>\n",
       "</table>\n",
       "</div>"
      ],
      "text/plain": [
       "                Modelo Acurácia (Accuracy) Precisão (Precision)  \\\n",
       "0  Logistic Regression   0.7902 +/- 0.0007    0.3624 +/- 0.0008   \n",
       "1        Random Forest   0.8988 +/- 0.0009    0.6696 +/- 0.0071   \n",
       "2              XGBoost   0.7982 +/- 0.0011    0.3730 +/- 0.0016   \n",
       "3             LightGBM   0.7882 +/- 0.0015    0.3630 +/- 0.0016   \n",
       "\n",
       "  Revocação (Recall)           F1-Score  \n",
       "0  0.8409 +/- 0.0030  0.5065 +/- 0.0011  \n",
       "1  0.4147 +/- 0.0032  0.5122 +/- 0.0038  \n",
       "2  0.8453 +/- 0.0022  0.5176 +/- 0.0020  \n",
       "3  0.8666 +/- 0.0039  0.5117 +/- 0.0016  "
      ]
     },
     "metadata": {},
     "output_type": "display_data"
    }
   ],
   "source": [
    "cv = StratifiedKFold(n_splits=5, shuffle=True, random_state=42)\n",
    "\n",
    "resultados = {}\n",
    "\n",
    "for nome, modelo in modelos.items():\n",
    "    print(f\"\\nAvaliando: {nome}\")\n",
    "    metrics = {\"accuracy\": [], \"precision\": [], \"recall\": [], \"f1\": []}\n",
    "    \n",
    "    preproc = preprocessor_lgbm if nome == \"LightGBM\" else preprocessor # O número de colunas geradas pelo OneHotEncoder estava variando entres os folds e quebrando o LightGBM\n",
    "    \n",
    "    pipeline = Pipeline([('preprocess', preproc),\n",
    "                         ('classifier', modelo)])\n",
    "\n",
    "    for i, (train_idx, test_idx) in enumerate(tqdm(cv.split(X_sample, y_sample), total=5, desc=f\"Validando {nome}\")): # A biblioteca tqdm mostra o andamento em cada modelo\n",
    "        X_train, X_test = X_sample.iloc[train_idx], X_sample.iloc[test_idx]\n",
    "        y_train, y_test = y_sample.iloc[train_idx], y_sample.iloc[test_idx]\n",
    "\n",
    "        pipeline.fit(X_train, y_train)\n",
    "        y_pred = pipeline.predict(X_test)\n",
    "\n",
    "        metrics[\"accuracy\"].append(accuracy_score(y_test, y_pred))\n",
    "        metrics[\"precision\"].append(precision_score(y_test, y_pred))\n",
    "        metrics[\"recall\"].append(recall_score(y_test, y_pred))\n",
    "        metrics[\"f1\"].append(f1_score(y_test, y_pred))\n",
    "\n",
    "    resultados[nome] = {m: (np.mean(metrics[m]), np.std(metrics[m])) for m in metrics} # Armazena o resultado final segundo as métricas definidas\n",
    "\n",
    "resultados_df = pd.DataFrame([\n",
    "    {\"Modelo\": modelo,\n",
    "     \"Acurácia (Accuracy)\": f\"{valores['accuracy'][0]:.4f} +/- {valores['accuracy'][1]:.4f}\",\n",
    "     \"Precisão (Precision)\": f\"{valores['precision'][0]:.4f} +/- {valores['precision'][1]:.4f}\",\n",
    "     \"Revocação (Recall)\": f\"{valores['recall'][0]:.4f} +/- {valores['recall'][1]:.4f}\",\n",
    "     \"F1-Score\": f\"{valores['f1'][0]:.4f} +/- {valores['f1'][1]:.4f}\"}\n",
    "    \n",
    "    for modelo, valores in resultados.items()])\n",
    "\n",
    "display(Markdown(\"#### Comparativo de Modelos\"))\n",
    "display(resultados_df) # Todos os dados foram compilados em um DataFrame, isso melhora a visualização dos resultados alcançados"
   ]
  },
  {
   "cell_type": "markdown",
   "id": "5c5ad4f1",
   "metadata": {},
   "source": [
    "### 3.3.4. ESCOLHA DO MELHOR MODELO DE MACHINE LEARNING\n",
    "\n",
    "Após a realização dos testes, constatou-se que o melhor desempenho foi obtido pelo modelo `LightGBM`.\n",
    "\n",
    "Como se trata de um problema de classificação relacionado ao óbito, é fundamental priorizar o modelo que apresenta maior recall, considerando a sensibilidade da aplicação. Nesse cenário, o LightGBM apresentou o melhor desempenho na detecção correta dos casos positivos (óbitos)."
   ]
  },
  {
   "cell_type": "code",
   "execution_count": 192,
   "id": "492e1803",
   "metadata": {
    "ExecuteTime": {
     "end_time": "2025-05-14T13:37:30.954468Z",
     "start_time": "2025-05-14T13:37:28.939710Z"
    },
    "scrolled": true
   },
   "outputs": [],
   "source": [
    "final_pipeline = Pipeline([\n",
    "    ('preprocess', preprocessor_lgbm),\n",
    "    ('classifier', LGBMClassifier(\n",
    "        random_state=42,\n",
    "        verbose=-1,\n",
    "        scale_pos_weight=6.79\n",
    "    ))\n",
    "])\n",
    "\n",
    "# Treinamento com todos os dados disponíveis\n",
    "final_pipeline.fit(X_sample, y_sample)\n",
    "\n",
    "# Separação para avaliação final no conjunto de teste\n",
    "X_train, X_test, y_train, y_test = train_test_split(\n",
    "    X_sample, y_sample, test_size=0.3, stratify=y_sample, random_state=42\n",
    ")"
   ]
  },
  {
   "cell_type": "markdown",
   "id": "b3d0009a",
   "metadata": {},
   "source": [
    "#### 3.3.4.1. ANÁLISE DAS VARIÁVEIS MAIS IMPORTANTES\n",
    "\n",
    "Após a definição do modelo e o seu treinamento com todos os dados disponíveis, é necessário observar quais foram as variáveis que mais influenciaram no resultado."
   ]
  },
  {
   "cell_type": "code",
   "execution_count": 193,
   "id": "1d5f7ba3",
   "metadata": {
    "ExecuteTime": {
     "end_time": "2025-05-14T13:37:33.297569Z",
     "start_time": "2025-05-14T13:37:32.907490Z"
    },
    "scrolled": true
   },
   "outputs": [
    {
     "data": {
      "image/png": "[encoded data removed]",
      "text/plain": [
       "<Figure size 1000x600 with 1 Axes>"
      ]
     },
     "metadata": {},
     "output_type": "display_data"
    }
   ],
   "source": [
    "model = final_pipeline.named_steps['classifier'] # Recuperação do modelo treinado no item 3.3.4\n",
    "\n",
    "ohe = final_pipeline.named_steps['preprocess'].named_transformers_['cat'].named_steps['encoder']\n",
    "feature_names = num_cols + list(ohe.get_feature_names_out(cat_cols)) # Recuperação dos nomes das features após o pré-processamento\n",
    "\n",
    "importances_df = pd.Series(model.feature_importances_, index=feature_names).sort_values(ascending=False) # Define a importância das variáveis no LightGBM\n",
    "\n",
    "top_15 = importances_df.head(15) # Seleciona as 15 mais importantes\n",
    "\n",
    "top_15.plot(kind='barh', figsize=(10, 6), title=\"Variáveis mais influentes - LightGBM\")\n",
    "plt.xlabel(\"Importância\")\n",
    "plt.gca().invert_yaxis()\n",
    "plt.tight_layout()\n",
    "plt.show()"
   ]
  },
  {
   "cell_type": "markdown",
   "id": "10c9b3bd",
   "metadata": {},
   "source": [
    "#### 3.3.4.2. CURVA ROC-AUC E PRECISION-RECALL\n",
    "\n",
    "Serve para avaliar a performance de modelos de classificação, especialmente quando o problema é desbalanceado no caso da curva Precision-Recall, exatamente o que foi constatado no decorrer desta análise."
   ]
  },
  {
   "cell_type": "markdown",
   "id": "b6f3add4",
   "metadata": {},
   "source": [
    "##### 3.4.4.2.1. CURVA ROC-AUC\n",
    "\n",
    "Avalia a capacidade do modelo de separar as classes (não óbito e óbito) em todos os limiares possíveis.\n",
    "\n",
    "O eixo x representa o falsos positivos, ou seja, a % de não óbitos classificados como óbitos. Enquanto o eixo y representa o recall, ou seja, a % de óbitos corretamente identificados."
   ]
  },
  {
   "cell_type": "code",
   "execution_count": 196,
   "id": "4555912b",
   "metadata": {
    "ExecuteTime": {
     "end_time": "2025-05-14T13:51:17.903992Z",
     "start_time": "2025-05-14T13:51:15.876761Z"
    }
   },
   "outputs": [
    {
     "data": {
      "image/png": "[encoded data removed]",
      "text/plain": [
       "<Figure size 800x600 with 1 Axes>"
      ]
     },
     "metadata": {},
     "output_type": "display_data"
    },
    {
     "data": {
      "text/markdown": [
       "Área sob a curva (AUC) = 0.90, significa que o modelo tem 90% de chance de classificar corretamente um caso positivo vesus um caso negativo aleatório."
      ],
      "text/plain": [
       "<IPython.core.display.Markdown object>"
      ]
     },
     "metadata": {},
     "output_type": "display_data"
    }
   ],
   "source": [
    "# Treina o pipeline no treino\n",
    "final_pipeline.fit(X_train, y_train)\n",
    "\n",
    "# Faz predição de probabilidade no teste\n",
    "y_proba = final_pipeline.predict_proba(X_test)[:, 1]\n",
    "\n",
    "# Calcula curva ROC\n",
    "fpr, tpr, thresholds = roc_curve(y_test, y_proba)\n",
    "roc_auc = auc(fpr, tpr)\n",
    "\n",
    "# Plota curva ROC\n",
    "plt.figure(figsize=(8, 6))\n",
    "plt.plot(fpr, tpr, color='darkorange', lw=2, label=f'ROC curve (área = {roc_auc:.2f})')\n",
    "plt.plot([0, 1], [0, 1], color='navy', lw=2, linestyle='--')\n",
    "plt.xlim([0.0, 1.0])\n",
    "plt.ylim([0.0, 1.05])\n",
    "plt.xlabel('Taxa de Falsos Positivos (1 - Especificidade)')\n",
    "plt.ylabel('Taxa de Verdadeiros Positivos (Recall)')\n",
    "plt.title('Curva ROC - LightGBM - Dados de Teste')\n",
    "plt.legend(loc=\"lower right\")\n",
    "plt.grid(True)\n",
    "plt.tight_layout()\n",
    "plt.show();\n",
    "\n",
    "display(Markdown('Área sob a curva (AUC) = 0.90, significa que o modelo tem 90% de chance de classificar corretamente um caso positivo vesus um caso negativo aleatório.'))"
   ]
  },
  {
   "cell_type": "markdown",
   "id": "d7d5edcb",
   "metadata": {},
   "source": [
    "##### 3.4.4.2.2. PRECISION-RECALL"
   ]
  },
  {
   "cell_type": "code",
   "execution_count": 195,
   "id": "ec3b1480",
   "metadata": {
    "ExecuteTime": {
     "end_time": "2025-05-14T13:37:41.584517Z",
     "start_time": "2025-05-14T13:37:41.335343Z"
    }
   },
   "outputs": [
    {
     "data": {
      "image/png": "[encoded data removed]",
      "text/plain": [
       "<Figure size 800x600 with 1 Axes>"
      ]
     },
     "metadata": {},
     "output_type": "display_data"
    },
    {
     "data": {
      "text/markdown": [
       "O modelo tem uma área sob a curva Precision-Recall de 0.60, o que é razoável, mas não muito alto.\n",
       "\n",
       "A curva desce rapidamente, isso indica que, conforme o modelo tenta aumentar o recall, ou seja, detectar mais óbitos, a precisão cai consideravelmente.\n",
       "\n",
       "Em outras palavras, é dizer que o modelo começa a errar mais ao tentar acertar tudo."
      ],
      "text/plain": [
       "<IPython.core.display.Markdown object>"
      ]
     },
     "metadata": {},
     "output_type": "display_data"
    }
   ],
   "source": [
    "precision, recall, _ = precision_recall_curve(y_test, y_proba)\n",
    "avg_prec = average_precision_score(y_test, y_proba)\n",
    "\n",
    "plt.figure(figsize=(8, 6))\n",
    "plt.plot(recall, precision, color='green', lw=2, label=f'Área = {avg_prec:.2f}')\n",
    "plt.title('Curva Precision-Recall - LightGBM - Dados de Teste')\n",
    "plt.xlabel('Recall')\n",
    "plt.ylabel('Precision')\n",
    "plt.legend(loc=\"upper right\")\n",
    "plt.grid(True)\n",
    "plt.tight_layout()\n",
    "plt.show()\n",
    "\n",
    "display(Markdown('O modelo tem uma área sob a curva Precision-Recall de 0.60, o que é razoável, mas não muito alto.\\n\\nA curva desce rapidamente, isso indica que, conforme o modelo tenta aumentar o recall, ou seja, detectar mais óbitos, a precisão cai consideravelmente.\\n\\nEm outras palavras, é dizer que o modelo começa a errar mais ao tentar acertar tudo.'))"
   ]
  },
  {
   "cell_type": "markdown",
   "id": "65d7a49a",
   "metadata": {},
   "source": [
    "## 4. CONCLUSÃO E RECOMENDAÇÕES"
   ]
  },
  {
   "cell_type": "markdown",
   "id": "483350c1",
   "metadata": {},
   "source": [
    "### 4.1. ANÁLISE TEMPORAL"
   ]
  },
  {
   "cell_type": "markdown",
   "id": "76759b95",
   "metadata": {},
   "source": [
    "- Identificar quais são os períodos de maior incidência de SRAG (momento com queda de temperatura e com maior concentração de pessoas).\n",
    "- Comparação com anos anteriores podem mostrar um padrão nos indicadores, mas como os dados serão altamente impactados pela pandemia de COVID-19, é interesse que esse monitoramente utilize como referência o ano de 2023 em diante."
   ]
  },
  {
   "cell_type": "markdown",
   "id": "81e84cc4",
   "metadata": {},
   "source": [
    "### 4.2. MEDIDAS PÚBLICAS"
   ]
  },
  {
   "cell_type": "markdown",
   "id": "dd23c5aa",
   "metadata": {},
   "source": [
    "- A vacinação da população mostrou ser uma excelente alternativa para a prevenção do agravamento dos casos de SRAG e, consequentemete, a redução no número de óbitos na parcela vacinada da população.\n",
    "- Fortalecer a rede de atenção primária para diagnóstico precoce, acompanhamento de grupos de risco e monitoramento de comormidades.\n",
    "- Melhorar a qualidade dos registros padronizando o preenchimento, reduzindo os campos com 'Ignorado' (ou nulo) e integrar os sistemas de informação.\n",
    "- Ampliar a rede de atendimento em regiões críticas.\n",
    "- Investir em equipamentos e treinamento de profissionais, além de utilizar o avanço da inteligência artificial como apoio na classificação dos pacientes.\n",
    "- Desenvolver sistemas de alerta precoce para períodos de maior indicência de SRAG, regiões com aumento de casos e grupos de risco específicos."
   ]
  },
  {
   "cell_type": "markdown",
   "id": "333d5a56",
   "metadata": {},
   "source": [
    "### 4.3. PERFIL DEMOGRÁFICO"
   ]
  },
  {
   "cell_type": "markdown",
   "id": "295d96b7",
   "metadata": {},
   "source": [
    "- As faixas etárias mais vulneráveis se mostraram mais suscetíveis ao agravamento de problemas de saúde causados pela SRAG. A priorização dessa população nas campanhas de vacinação, conforme adotado pelo governo, demonstrou-se adequada com base na análise dos dados por idade.\n",
    "- Fatores de risco como obesidade, cardiopatias e diabetes devem ser observados com atenção por toda a população, uma vez que os dados corroboram a ideia de que pessoas com comorbidades apresentam maior risco de complicações decorrentes da SRAG."
   ]
  },
  {
   "cell_type": "markdown",
   "id": "adec52a2",
   "metadata": {},
   "source": [
    "#### 4.3.1. DISTRIBUIÇÃO GEOGRÁFICA"
   ]
  },
  {
   "cell_type": "markdown",
   "id": "7ad513bf",
   "metadata": {},
   "source": [
    "- A variável geográfica mostrou forte influência sobre o número de registros de SRAG, o que pode estar diretamente relacionado a regiões com maior densidade demográfica e melhor acesso aos serviços de saúde, reduzindo a subnotificação."
   ]
  },
  {
   "cell_type": "markdown",
   "id": "92b26942",
   "metadata": {},
   "source": [
    "### 4.4. PERFORMANCE DOS MODELOS"
   ]
  },
  {
   "cell_type": "markdown",
   "id": "626108a1",
   "metadata": {},
   "source": [
    "- Os modelos foram treinados de forma correta e apresentaram resultados medianos a satisfatórios. A alta acurácia em todos os modelos pode ser justificada pelo desbalanceamento das classes, dessa forma, mesmo que o modelo chute, caso seja a classe majoritária, terá uma alta acurácia.\n",
    "- A curva Precision-Recall mostrou que os resultados encontrados ainda não são os ideais. Por ser tratar de um problema de saúde pública, é importante que os modelos prevejam com assertividade possíveis casos de óbito\n",
    "- Devido a sensibilidade do problema, o LightGBM foi escolhido, pois apresentou o maior recall dentre os modelos treinados, apesar de uma precisão menor. Para detectar mais óbitos (recall maior), foi preciso aceitar mais falsos positivos (precisão menor)."
   ]
  },
  {
   "cell_type": "markdown",
   "id": "e7be1ccc",
   "metadata": {},
   "source": [
    "### 4.5. DESENVOLVIMENTO DA ANÁLISE"
   ]
  },
  {
   "cell_type": "markdown",
   "id": "584676aa",
   "metadata": {},
   "source": [
    "- Foi encerrado o primeiro ciclo do CRISP-DM, mas novos ciclos devem ocorrer buscando a melhora dos resultados obtidos.\n",
    "- A tunagem dos modelos pode apresentar resultados satisfatórios.\n",
    "- Um melhor desempenho pode ser esperado com a utilização de um computador mais robusto, permitindo realizar o treinamento dos modelos em um cenário ideal, selecionar as features mais pertinentes por meio do Boruta, além da utilização de algoritmos como CatBoost ou Redes Neurais.\n",
    "- Técnicas como SMOTE, ADASYN ou undersampling podem ser aplicadas para lidar com o desbalanceamento da variável alvo e melhorar a sensibilidade de modelos mais robustos, apresentando resultados mais satisfatórios do que apenas os parâmetro 'class_weight' e 'scale_pos_weight'."
   ]
  }
 ],
 "metadata": {
  "kernelspec": {
   "display_name": "Python 3 (ipykernel)",
   "language": "python",
   "name": "python3"
  },
  "language_info": {
   "codemirror_mode": {
    "name": "ipython",
    "version": 3
   },
   "file_extension": ".py",
   "mimetype": "text/x-python",
   "name": "python",
   "nbconvert_exporter": "python",
   "pygments_lexer": "ipython3",
   "version": "3.10.9"
  }
 },
 "nbformat": 4,
 "nbformat_minor": 5
}
